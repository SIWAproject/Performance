{
 "cells": [
  {
   "cell_type": "code",
   "execution_count": 54,
   "metadata": {},
   "outputs": [],
   "source": []
  },
  {
   "cell_type": "code",
   "execution_count": 1,
   "metadata": {},
   "outputs": [],
   "source": [
    "from importlib import reload  \n",
    "import swine\n",
    "import s3utils"
   ]
  },
  {
   "cell_type": "code",
   "execution_count": 2,
   "metadata": {},
   "outputs": [
    {
     "data": {
      "text/plain": [
       "<module 's3utils' from '/Users/dvarelat/Documents/SIWA/dataExploration/Mappings granjas experimentales/s3utils.py'>"
      ]
     },
     "execution_count": 2,
     "metadata": {},
     "output_type": "execute_result"
    }
   ],
   "source": [
    "reload(swine)\n",
    "reload(s3utils)"
   ]
  },
  {
   "cell_type": "code",
   "execution_count": 5,
   "metadata": {},
   "outputs": [],
   "source": [
    "from swine import Performance, Treatments, Results\n",
    "from s3utils import *"
   ]
  },
  {
   "cell_type": "markdown",
   "metadata": {},
   "source": [
    "# E341:\n",
    "\n",
    "Performance:"
   ]
  },
  {
   "cell_type": "code",
   "execution_count": 11,
   "metadata": {},
   "outputs": [],
   "source": [
    "filename_input = \"/Users/dvarelat/Documents/SIWA/dataExploration/DATA/raw_cerdos.xlsx\" \n",
    "sheet_name= \"R\" \n",
    "bucket_name = \"siwaexperiments\"\n",
    "experiment = \"E341\" \n",
    "folder = \"performance\""
   ]
  },
  {
   "cell_type": "code",
   "execution_count": 9,
   "metadata": {},
   "outputs": [],
   "source": [
    "parameters = {\n",
    "    \"count_period\":{ \n",
    "        \"variable\":[\"count\"], \n",
    "        \"cols_lambda\":lambda col: col.endswith(\"Count\") and col.startswith(\"P\"),\n",
    "        \"name\":\"period\" \n",
    "    },\n",
    "    \"weight_period\":{\n",
    "        \"variable\":[\"weight(g)\"],\n",
    "        \"cols_lambda\":lambda col: col.endswith(\"Wt\"),\n",
    "        \"name\":\"period\"\n",
    "    },\n",
    "    \"adg_period\":{\n",
    "        \"variable\":[\"ADG(g)\"],\n",
    "        \"cols_lambda\":lambda col: col.endswith(\"ADG\") and not col.startswith((\"Phase\",\"StoF\",\"ACI\")),\n",
    "        \"name\":\"period\"\n",
    "    },\n",
    "    \"adfi_period\":{\n",
    "        \"variable\":[\"ADFI(g)\"],\n",
    "        \"cols_lambda\":lambda col: col.endswith(\"ADFI\") and not col.startswith((\"Phase\",\"StoF\",\"ACI\")),\n",
    "        \"name\":\"period\"\n",
    "    },\n",
    "    \"fcr_period\":{\n",
    "        \"variable\":[\"FCR(g:g)\"],\n",
    "        \"cols_lambda\":lambda col: col.endswith(\"FCR\") and not col.startswith((\"Phase\",\"StoF\",\"ACI\")),\n",
    "        \"name\":\"period\"\n",
    "    },\n",
    "    \"adg_phase\":{\n",
    "        \"variable\":[\"ADG(g)\"],\n",
    "        \"cols_lambda\":lambda col: col.endswith(\"ADG\") and col.startswith(\"Phase\"),\n",
    "        \"name\":\"phase\"\n",
    "    },\n",
    "    \"adfi_phase\":{\n",
    "        \"variable\":[\"ADFI(g)\"],\n",
    "        \"cols_lambda\":lambda col: col.endswith(\"ADFI\") and col.startswith(\"Phase\"),\n",
    "        \"name\":\"phase\"\n",
    "    },\n",
    "    \"fcr_phase\":{\n",
    "        \"variable\":[\"FCR(g:g)\"],\n",
    "        \"cols_lambda\":lambda col: col.endswith(\"FCR\") and col.startswith(\"Phase\"),\n",
    "        \"name\":\"phase\"\n",
    "    },\n",
    "}"
   ]
  },
  {
   "cell_type": "code",
   "execution_count": 13,
   "metadata": {},
   "outputs": [
    {
     "name": "stdout",
     "output_type": "stream",
     "text": [
      "Uploading  to s3://siwaexperimentsE341/raw.xlsx\n",
      "Processing count_period\n",
      "File already exists: E341/performance/count_period.csv and overwrite FALSE\n",
      "Processing weight_period\n",
      "File already exists: E341/performance/weight_period.csv and overwrite FALSE\n",
      "Processing adg_period\n",
      "File already exists: E341/performance/adg_period.csv and overwrite FALSE\n",
      "Processing adfi_period\n",
      "File already exists: E341/performance/adfi_period.csv and overwrite FALSE\n",
      "Processing fcr_period\n",
      "File already exists: E341/performance/fcr_period.csv and overwrite FALSE\n",
      "Processing adg_phase\n",
      "File already exists: E341/performance/adg_phase.csv and overwrite FALSE\n",
      "Processing adfi_phase\n",
      "File already exists: E341/performance/adfi_phase.csv and overwrite FALSE\n",
      "Processing fcr_phase\n",
      "File already exists: E341/performance/fcr_phase.csv and overwrite FALSE\n",
      "File already exists: E341/performance/mortality.csv and overwrite FALSE\n"
     ]
    },
    {
     "data": {
      "text/plain": [
       "Performance(filename_input='/Users/dvarelat/Documents/SIWA/dataExploration/DATA/raw_cerdos.xlsx', sheet_name='R', bucket_name='siwaexperiments', experiment='E341', folder='performance', parameters={'count_period': {'variable': ['count'], 'cols_lambda': <function <lambda> at 0x7ffc8b2b8670>, 'name': 'period'}, 'weight_period': {'variable': ['weight(g)'], 'cols_lambda': <function <lambda> at 0x7ffc8b2b8160>, 'name': 'period'}, 'adg_period': {'variable': ['ADG(g)'], 'cols_lambda': <function <lambda> at 0x7ffc8b2b8ca0>, 'name': 'period'}, 'adfi_period': {'variable': ['ADFI(g)'], 'cols_lambda': <function <lambda> at 0x7ffc8b2da4c0>, 'name': 'period'}, 'fcr_period': {'variable': ['FCR(g:g)'], 'cols_lambda': <function <lambda> at 0x7ffc8b2da160>, 'name': 'period'}, 'adg_phase': {'variable': ['ADG(g)'], 'cols_lambda': <function <lambda> at 0x7ffc8b2daa60>, 'name': 'phase'}, 'adfi_phase': {'variable': ['ADFI(g)'], 'cols_lambda': <function <lambda> at 0x7ffc8b2da3a0>, 'name': 'phase'}, 'fcr_phase': {'variable': ['FCR(g:g)'], 'cols_lambda': <function <lambda> at 0x7ffc8b2da9d0>, 'name': 'phase'}}, overwrite=False)"
      ]
     },
     "execution_count": 13,
     "metadata": {},
     "output_type": "execute_result"
    }
   ],
   "source": [
    "Performance(filename_input, sheet_name, bucket_name, experiment, folder, parameters, overwrite=False)"
   ]
  },
  {
   "cell_type": "code",
   "execution_count": null,
   "metadata": {},
   "outputs": [],
   "source": []
  },
  {
   "cell_type": "code",
   "execution_count": null,
   "metadata": {},
   "outputs": [],
   "source": []
  },
  {
   "cell_type": "markdown",
   "metadata": {},
   "source": [
    "Treatments:"
   ]
  },
  {
   "cell_type": "code",
   "execution_count": null,
   "metadata": {},
   "outputs": [],
   "source": []
  },
  {
   "cell_type": "code",
   "execution_count": 87,
   "metadata": {},
   "outputs": [
    {
     "name": "stdout",
     "output_type": "stream",
     "text": [
      "File already exists: E341/treatments.csv and overwrite FALSE\n"
     ]
    },
    {
     "data": {
      "text/plain": [
       "Treatments(filename_input='/Users/dvarelat/Documents/SIWA/dataExploration/DATA/raw.xlsx', sheet_name='Treatments', bucket_name='siwaexperiments', experiment='E341', folder='', filename_output='treatments', overwrite=False)"
      ]
     },
     "execution_count": 87,
     "metadata": {},
     "output_type": "execute_result"
    }
   ],
   "source": [
    "filename_input = filename_input # Archivo de donde se extreará la data\n",
    "sheet_name=\"Treatments\" # Nombre de la hoja donde se encuentran los datos\n",
    "bucket_name = \"siwaexperiments\" # Nombre del bucket donde se guardarán los datos\n",
    "experiment = \"E341\" # Nombre de la carpeta dentro del bucket para un experimento\n",
    "folder = \"\" # Carpeta donde se guardará el archivo de salida\n",
    "filename_output = \"treatments\"\n",
    "Treatments(filename_input,sheet_name,bucket_name,experiment,folder,filename_output, overwrite=False)"
   ]
  },
  {
   "cell_type": "markdown",
   "metadata": {},
   "source": [
    "Results:"
   ]
  },
  {
   "cell_type": "code",
   "execution_count": 89,
   "metadata": {},
   "outputs": [
    {
     "name": "stdout",
     "output_type": "stream",
     "text": [
      "File already exists: E341/results.csv and overwrite FALSE\n"
     ]
    },
    {
     "data": {
      "text/plain": [
       "Results(filename_input='/Users/dvarelat/Documents/SIWA/dataExploration/DATA/raw.xlsx', sheet_name='Composition', bucket_name='siwaexperiments', experiment='E341', folder='', filename_output='results', overwrite=False)"
      ]
     },
     "execution_count": 89,
     "metadata": {},
     "output_type": "execute_result"
    }
   ],
   "source": [
    "filename_input = filename_input # Archivo de donde se extreará la data\n",
    "sheet_name=\"Composition\" # Nombre de la hoja donde se encuentran los datos\n",
    "bucket_name = \"siwaexperiments\" # Nombre del bucket donde se guardarán los datos\n",
    "experiment = \"E341\" # Nombre de la carpeta dentro del bucket para un experimento\n",
    "folder = \"\" # Carpeta donde se guardará el archivo de salida\n",
    "filename_output = \"results\"\n",
    "Results(filename_input,sheet_name,bucket_name,experiment,folder,filename_output, overwrite=False)"
   ]
  },
  {
   "cell_type": "markdown",
   "metadata": {},
   "source": [
    "# E338:\n",
    "\n",
    "Performance:"
   ]
  },
  {
   "cell_type": "code",
   "execution_count": 6,
   "metadata": {},
   "outputs": [],
   "source": [
    "filename_input = \"data/E338.xlsx\" # Archivo de donde se extreará la data\n",
    "sheet_name=\"R\" # Nombre de la hoja donde se encuentran los datos\n",
    "bucket_name = \"siwaexperiments\" # Nombre del bucket donde se guardarán los datos\n",
    "experiment = \"E338\" # Nombre de la carpeta dentro del bucket para un experimento\n",
    "folder = \"performance\" # Carpeta donde se guardará el archivo de salida\n",
    "\n",
    "parameters = {\n",
    "    \"count_period\":{\n",
    "        \"variable\":[\"count\"],\n",
    "        \"cols_lambda\":lambda col: col.endswith(\"Count\") and col.startswith(\"P\"),\n",
    "        \"name\":\"period\"\n",
    "    },\n",
    "    \"weight_period\":{\n",
    "        \"variable\":[\"weight(g)\"],\n",
    "        \"cols_lambda\":lambda col: col.endswith(\"Wt\"),\n",
    "        \"name\":\"period\"\n",
    "    },\n",
    "    \"adg_period\":{\n",
    "        \"variable\":[\"ADG(g)\"],\n",
    "        \"cols_lambda\":lambda col: col.endswith(\"ADG\") and not col.startswith((\"Phase\",\"StoF\",\"ACI\")),\n",
    "        \"name\":\"period\"\n",
    "    },\n",
    "    \"adfi_period\":{\n",
    "        \"variable\":[\"ADFI(g)\"],\n",
    "        \"cols_lambda\":lambda col: col.endswith(\"ADFI\") and not col.startswith((\"Phase\",\"StoF\",\"ACI\")),\n",
    "        \"name\":\"period\"\n",
    "    },\n",
    "    \"fcr_period\":{\n",
    "        \"variable\":[\"FCR(g:g)\"],\n",
    "        \"cols_lambda\":lambda col: col.endswith(\"FCR\") and not col.startswith((\"Phase\",\"StoF\",\"ACI\")),\n",
    "        \"name\":\"period\"\n",
    "    },\n",
    "    \"adg_phase\":{\n",
    "        \"variable\":[\"ADG(g)\"],\n",
    "        \"cols_lambda\":lambda col: col.endswith(\"ADG\") and col.startswith(\"Phase\"),\n",
    "        \"name\":\"phase\"\n",
    "    },\n",
    "    \"adfi_phase\":{\n",
    "        \"variable\":[\"ADFI(g)\"],\n",
    "        \"cols_lambda\":lambda col: col.endswith(\"ADFI\") and col.startswith(\"Phase\"),\n",
    "        \"name\":\"phase\"\n",
    "    },\n",
    "    \"fcr_phase\":{\n",
    "        \"variable\":[\"FCR(g:g)\"],\n",
    "        \"cols_lambda\":lambda col: col.endswith(\"FCR\") and col.startswith(\"Phase\"),\n",
    "        \"name\":\"phase\"\n",
    "    },\n",
    "}\n",
    "\n"
   ]
  },
  {
   "cell_type": "code",
   "execution_count": 7,
   "metadata": {},
   "outputs": [
    {
     "ename": "FileNotFoundError",
     "evalue": "[Errno 2] No such file or directory: 'data/E338.xlsx'",
     "output_type": "error",
     "traceback": [
      "\u001b[0;31m---------------------------------------------------------------------------\u001b[0m",
      "\u001b[0;31mFileNotFoundError\u001b[0m                         Traceback (most recent call last)",
      "Input \u001b[0;32mIn [7]\u001b[0m, in \u001b[0;36m<module>\u001b[0;34m\u001b[0m\n\u001b[0;32m----> 1\u001b[0m \u001b[43mPerformance\u001b[49m\u001b[43m(\u001b[49m\u001b[43mfilename_input\u001b[49m\u001b[43m,\u001b[49m\u001b[43msheet_name\u001b[49m\u001b[43m,\u001b[49m\u001b[43mbucket_name\u001b[49m\u001b[43m,\u001b[49m\u001b[43mexperiment\u001b[49m\u001b[43m,\u001b[49m\u001b[43mfolder\u001b[49m\u001b[43m,\u001b[49m\u001b[43mparameters\u001b[49m\u001b[43m)\u001b[49m\n",
      "File \u001b[0;32m<string>:9\u001b[0m, in \u001b[0;36m__init__\u001b[0;34m(self, filename_input, sheet_name, bucket_name, experiment, folder, parameters)\u001b[0m\n",
      "File \u001b[0;32m~/Documents/SIWA/dataExploration/Mappings granjas experimentales/swine.py:21\u001b[0m, in \u001b[0;36mPerformance.__post_init__\u001b[0;34m(self)\u001b[0m\n\u001b[1;32m     18\u001b[0m s3_client \u001b[38;5;241m=\u001b[39m client(\u001b[38;5;124m'\u001b[39m\u001b[38;5;124ms3\u001b[39m\u001b[38;5;124m'\u001b[39m,aws_access_key_id\u001b[38;5;241m=\u001b[39m\u001b[38;5;124m'\u001b[39m\u001b[38;5;124mAKIATNNTOXHYYITGFJP5\u001b[39m\u001b[38;5;124m'\u001b[39m,aws_secret_access_key\u001b[38;5;241m=\u001b[39m\u001b[38;5;124m'\u001b[39m\u001b[38;5;124mv+8i58uFTWIQpc7ps8W27dDiqwGsjdIA5iJy0T2G\u001b[39m\u001b[38;5;124m'\u001b[39m)\n\u001b[1;32m     19\u001b[0m folders(\u001b[38;5;28mself\u001b[39m\u001b[38;5;241m.\u001b[39mexperiment,s3_client,\u001b[38;5;28mself\u001b[39m\u001b[38;5;241m.\u001b[39mbucket_name,\u001b[38;5;28mself\u001b[39m\u001b[38;5;241m.\u001b[39mfolder)\n\u001b[0;32m---> 21\u001b[0m \u001b[38;5;28mself\u001b[39m\u001b[38;5;241m.\u001b[39mraw \u001b[38;5;241m=\u001b[39m \u001b[43mpd\u001b[49m\u001b[38;5;241;43m.\u001b[39;49m\u001b[43mread_excel\u001b[49m\u001b[43m(\u001b[49m\u001b[38;5;28;43mself\u001b[39;49m\u001b[38;5;241;43m.\u001b[39;49m\u001b[43mfilename_input\u001b[49m\u001b[43m,\u001b[49m\u001b[43msheet_name\u001b[49m\u001b[38;5;241;43m=\u001b[39;49m\u001b[38;5;28;43mself\u001b[39;49m\u001b[38;5;241;43m.\u001b[39;49m\u001b[43msheet_name\u001b[49m\u001b[43m)\u001b[49m\n\u001b[1;32m     22\u001b[0m raw_to_s3(pd\u001b[38;5;241m.\u001b[39mread_excel(\u001b[38;5;28mself\u001b[39m\u001b[38;5;241m.\u001b[39mfilename_input, sheet_name\u001b[38;5;241m=\u001b[39m\u001b[38;5;28;01mNone\u001b[39;00m),s3_client,\u001b[38;5;28mself\u001b[39m\u001b[38;5;241m.\u001b[39mbucket_name,\u001b[38;5;28mself\u001b[39m\u001b[38;5;241m.\u001b[39mexperiment)\n\u001b[1;32m     23\u001b[0m main \u001b[38;5;241m=\u001b[39m \u001b[38;5;28mself\u001b[39m\u001b[38;5;241m.\u001b[39mextract([\u001b[38;5;124m'\u001b[39m\u001b[38;5;124mPen\u001b[39m\u001b[38;5;124m'\u001b[39m,\u001b[38;5;124m'\u001b[39m\u001b[38;5;124mTrt\u001b[39m\u001b[38;5;124m'\u001b[39m,\u001b[38;5;124m'\u001b[39m\u001b[38;5;124mSex\u001b[39m\u001b[38;5;124m'\u001b[39m])\u001b[38;5;241m.\u001b[39mrename(columns\u001b[38;5;241m=\u001b[39m{\u001b[38;5;124m'\u001b[39m\u001b[38;5;124mTrts\u001b[39m\u001b[38;5;124m'\u001b[39m:\u001b[38;5;124m'\u001b[39m\u001b[38;5;124mTreatment\u001b[39m\u001b[38;5;124m'\u001b[39m})\n",
      "File \u001b[0;32m/opt/miniconda3/lib/python3.8/site-packages/pandas/util/_decorators.py:311\u001b[0m, in \u001b[0;36mdeprecate_nonkeyword_arguments.<locals>.decorate.<locals>.wrapper\u001b[0;34m(*args, **kwargs)\u001b[0m\n\u001b[1;32m    305\u001b[0m \u001b[38;5;28;01mif\u001b[39;00m \u001b[38;5;28mlen\u001b[39m(args) \u001b[38;5;241m>\u001b[39m num_allow_args:\n\u001b[1;32m    306\u001b[0m     warnings\u001b[38;5;241m.\u001b[39mwarn(\n\u001b[1;32m    307\u001b[0m         msg\u001b[38;5;241m.\u001b[39mformat(arguments\u001b[38;5;241m=\u001b[39marguments),\n\u001b[1;32m    308\u001b[0m         \u001b[38;5;167;01mFutureWarning\u001b[39;00m,\n\u001b[1;32m    309\u001b[0m         stacklevel\u001b[38;5;241m=\u001b[39mstacklevel,\n\u001b[1;32m    310\u001b[0m     )\n\u001b[0;32m--> 311\u001b[0m \u001b[38;5;28;01mreturn\u001b[39;00m \u001b[43mfunc\u001b[49m\u001b[43m(\u001b[49m\u001b[38;5;241;43m*\u001b[39;49m\u001b[43margs\u001b[49m\u001b[43m,\u001b[49m\u001b[43m \u001b[49m\u001b[38;5;241;43m*\u001b[39;49m\u001b[38;5;241;43m*\u001b[39;49m\u001b[43mkwargs\u001b[49m\u001b[43m)\u001b[49m\n",
      "File \u001b[0;32m/opt/miniconda3/lib/python3.8/site-packages/pandas/io/excel/_base.py:457\u001b[0m, in \u001b[0;36mread_excel\u001b[0;34m(io, sheet_name, header, names, index_col, usecols, squeeze, dtype, engine, converters, true_values, false_values, skiprows, nrows, na_values, keep_default_na, na_filter, verbose, parse_dates, date_parser, thousands, decimal, comment, skipfooter, convert_float, mangle_dupe_cols, storage_options)\u001b[0m\n\u001b[1;32m    455\u001b[0m \u001b[38;5;28;01mif\u001b[39;00m \u001b[38;5;129;01mnot\u001b[39;00m \u001b[38;5;28misinstance\u001b[39m(io, ExcelFile):\n\u001b[1;32m    456\u001b[0m     should_close \u001b[38;5;241m=\u001b[39m \u001b[38;5;28;01mTrue\u001b[39;00m\n\u001b[0;32m--> 457\u001b[0m     io \u001b[38;5;241m=\u001b[39m \u001b[43mExcelFile\u001b[49m\u001b[43m(\u001b[49m\u001b[43mio\u001b[49m\u001b[43m,\u001b[49m\u001b[43m \u001b[49m\u001b[43mstorage_options\u001b[49m\u001b[38;5;241;43m=\u001b[39;49m\u001b[43mstorage_options\u001b[49m\u001b[43m,\u001b[49m\u001b[43m \u001b[49m\u001b[43mengine\u001b[49m\u001b[38;5;241;43m=\u001b[39;49m\u001b[43mengine\u001b[49m\u001b[43m)\u001b[49m\n\u001b[1;32m    458\u001b[0m \u001b[38;5;28;01melif\u001b[39;00m engine \u001b[38;5;129;01mand\u001b[39;00m engine \u001b[38;5;241m!=\u001b[39m io\u001b[38;5;241m.\u001b[39mengine:\n\u001b[1;32m    459\u001b[0m     \u001b[38;5;28;01mraise\u001b[39;00m \u001b[38;5;167;01mValueError\u001b[39;00m(\n\u001b[1;32m    460\u001b[0m         \u001b[38;5;124m\"\u001b[39m\u001b[38;5;124mEngine should not be specified when passing \u001b[39m\u001b[38;5;124m\"\u001b[39m\n\u001b[1;32m    461\u001b[0m         \u001b[38;5;124m\"\u001b[39m\u001b[38;5;124man ExcelFile - ExcelFile already has the engine set\u001b[39m\u001b[38;5;124m\"\u001b[39m\n\u001b[1;32m    462\u001b[0m     )\n",
      "File \u001b[0;32m/opt/miniconda3/lib/python3.8/site-packages/pandas/io/excel/_base.py:1376\u001b[0m, in \u001b[0;36mExcelFile.__init__\u001b[0;34m(self, path_or_buffer, engine, storage_options)\u001b[0m\n\u001b[1;32m   1374\u001b[0m     ext \u001b[38;5;241m=\u001b[39m \u001b[38;5;124m\"\u001b[39m\u001b[38;5;124mxls\u001b[39m\u001b[38;5;124m\"\u001b[39m\n\u001b[1;32m   1375\u001b[0m \u001b[38;5;28;01melse\u001b[39;00m:\n\u001b[0;32m-> 1376\u001b[0m     ext \u001b[38;5;241m=\u001b[39m \u001b[43minspect_excel_format\u001b[49m\u001b[43m(\u001b[49m\n\u001b[1;32m   1377\u001b[0m \u001b[43m        \u001b[49m\u001b[43mcontent_or_path\u001b[49m\u001b[38;5;241;43m=\u001b[39;49m\u001b[43mpath_or_buffer\u001b[49m\u001b[43m,\u001b[49m\u001b[43m \u001b[49m\u001b[43mstorage_options\u001b[49m\u001b[38;5;241;43m=\u001b[39;49m\u001b[43mstorage_options\u001b[49m\n\u001b[1;32m   1378\u001b[0m \u001b[43m    \u001b[49m\u001b[43m)\u001b[49m\n\u001b[1;32m   1379\u001b[0m     \u001b[38;5;28;01mif\u001b[39;00m ext \u001b[38;5;129;01mis\u001b[39;00m \u001b[38;5;28;01mNone\u001b[39;00m:\n\u001b[1;32m   1380\u001b[0m         \u001b[38;5;28;01mraise\u001b[39;00m \u001b[38;5;167;01mValueError\u001b[39;00m(\n\u001b[1;32m   1381\u001b[0m             \u001b[38;5;124m\"\u001b[39m\u001b[38;5;124mExcel file format cannot be determined, you must specify \u001b[39m\u001b[38;5;124m\"\u001b[39m\n\u001b[1;32m   1382\u001b[0m             \u001b[38;5;124m\"\u001b[39m\u001b[38;5;124man engine manually.\u001b[39m\u001b[38;5;124m\"\u001b[39m\n\u001b[1;32m   1383\u001b[0m         )\n",
      "File \u001b[0;32m/opt/miniconda3/lib/python3.8/site-packages/pandas/io/excel/_base.py:1250\u001b[0m, in \u001b[0;36minspect_excel_format\u001b[0;34m(content_or_path, storage_options)\u001b[0m\n\u001b[1;32m   1247\u001b[0m \u001b[38;5;28;01mif\u001b[39;00m \u001b[38;5;28misinstance\u001b[39m(content_or_path, \u001b[38;5;28mbytes\u001b[39m):\n\u001b[1;32m   1248\u001b[0m     content_or_path \u001b[38;5;241m=\u001b[39m BytesIO(content_or_path)\n\u001b[0;32m-> 1250\u001b[0m \u001b[38;5;28;01mwith\u001b[39;00m \u001b[43mget_handle\u001b[49m\u001b[43m(\u001b[49m\n\u001b[1;32m   1251\u001b[0m \u001b[43m    \u001b[49m\u001b[43mcontent_or_path\u001b[49m\u001b[43m,\u001b[49m\u001b[43m \u001b[49m\u001b[38;5;124;43m\"\u001b[39;49m\u001b[38;5;124;43mrb\u001b[39;49m\u001b[38;5;124;43m\"\u001b[39;49m\u001b[43m,\u001b[49m\u001b[43m \u001b[49m\u001b[43mstorage_options\u001b[49m\u001b[38;5;241;43m=\u001b[39;49m\u001b[43mstorage_options\u001b[49m\u001b[43m,\u001b[49m\u001b[43m \u001b[49m\u001b[43mis_text\u001b[49m\u001b[38;5;241;43m=\u001b[39;49m\u001b[38;5;28;43;01mFalse\u001b[39;49;00m\n\u001b[1;32m   1252\u001b[0m \u001b[43m\u001b[49m\u001b[43m)\u001b[49m \u001b[38;5;28;01mas\u001b[39;00m handle:\n\u001b[1;32m   1253\u001b[0m     stream \u001b[38;5;241m=\u001b[39m handle\u001b[38;5;241m.\u001b[39mhandle\n\u001b[1;32m   1254\u001b[0m     stream\u001b[38;5;241m.\u001b[39mseek(\u001b[38;5;241m0\u001b[39m)\n",
      "File \u001b[0;32m/opt/miniconda3/lib/python3.8/site-packages/pandas/io/common.py:798\u001b[0m, in \u001b[0;36mget_handle\u001b[0;34m(path_or_buf, mode, encoding, compression, memory_map, is_text, errors, storage_options)\u001b[0m\n\u001b[1;32m    789\u001b[0m         handle \u001b[38;5;241m=\u001b[39m \u001b[38;5;28mopen\u001b[39m(\n\u001b[1;32m    790\u001b[0m             handle,\n\u001b[1;32m    791\u001b[0m             ioargs\u001b[38;5;241m.\u001b[39mmode,\n\u001b[0;32m   (...)\u001b[0m\n\u001b[1;32m    794\u001b[0m             newline\u001b[38;5;241m=\u001b[39m\u001b[38;5;124m\"\u001b[39m\u001b[38;5;124m\"\u001b[39m,\n\u001b[1;32m    795\u001b[0m         )\n\u001b[1;32m    796\u001b[0m     \u001b[38;5;28;01melse\u001b[39;00m:\n\u001b[1;32m    797\u001b[0m         \u001b[38;5;66;03m# Binary mode\u001b[39;00m\n\u001b[0;32m--> 798\u001b[0m         handle \u001b[38;5;241m=\u001b[39m \u001b[38;5;28;43mopen\u001b[39;49m\u001b[43m(\u001b[49m\u001b[43mhandle\u001b[49m\u001b[43m,\u001b[49m\u001b[43m \u001b[49m\u001b[43mioargs\u001b[49m\u001b[38;5;241;43m.\u001b[39;49m\u001b[43mmode\u001b[49m\u001b[43m)\u001b[49m\n\u001b[1;32m    799\u001b[0m     handles\u001b[38;5;241m.\u001b[39mappend(handle)\n\u001b[1;32m    801\u001b[0m \u001b[38;5;66;03m# Convert BytesIO or file objects passed with an encoding\u001b[39;00m\n",
      "\u001b[0;31mFileNotFoundError\u001b[0m: [Errno 2] No such file or directory: 'data/E338.xlsx'"
     ]
    }
   ],
   "source": [
    "Performance(filename_input,sheet_name,bucket_name,experiment,folder,parameters)"
   ]
  },
  {
   "cell_type": "markdown",
   "metadata": {},
   "source": [
    "# E324:\n",
    "\n",
    "Performance:"
   ]
  },
  {
   "cell_type": "code",
   "execution_count": 6,
   "metadata": {},
   "outputs": [
    {
     "data": {
      "text/plain": [
       "Performance(filename_input='data/E324.xlsx', sheet_name='R', bucket_name='siwaexperiments', experiment='E324', folder='performance', parameters={'count_period': {'variable': ['count'], 'cols_lambda': <function <lambda> at 0x0000028B70E5ED40>, 'name': 'period'}, 'weight_period': {'variable': ['weight(g)'], 'cols_lambda': <function <lambda> at 0x0000028B70E5ECB0>, 'name': 'period'}, 'adg_period': {'variable': ['ADG(g)'], 'cols_lambda': <function <lambda> at 0x0000028B70E5EC20>, 'name': 'period'}, 'adfi_period': {'variable': ['ADFI(g)'], 'cols_lambda': <function <lambda> at 0x0000028B70E5EB90>, 'name': 'period'}, 'fcr_period': {'variable': ['FCR(g:g)'], 'cols_lambda': <function <lambda> at 0x0000028B70E5EB00>, 'name': 'period'}, 'adg_phase': {'variable': ['ADG(g)'], 'cols_lambda': <function <lambda> at 0x0000028B70E5EA70>, 'name': 'phase'}, 'adfi_phase': {'variable': ['ADFI(g)'], 'cols_lambda': <function <lambda> at 0x0000028B70E5E680>, 'name': 'phase'}, 'fcr_phase': {'variable': ['FCR(g:g)'], 'cols_lambda': <function <lambda> at 0x0000028B70E5E5F0>, 'name': 'phase'}})"
      ]
     },
     "execution_count": 6,
     "metadata": {},
     "output_type": "execute_result"
    }
   ],
   "source": [
    "filename_input = \"data/E324.xlsx\" # Archivo de donde se extreará la data\n",
    "sheet_name=\"R\" # Nombre de la hoja donde se encuentran los datos\n",
    "bucket_name = \"siwaexperiments\" # Nombre del bucket donde se guardarán los datos\n",
    "experiment = \"E324\" # Nombre de la carpeta dentro del bucket para un experimento\n",
    "folder = \"performance\" # Carpeta donde se guardará el archivo de salida\n",
    "\n",
    "parameters = {\n",
    "    \"count_period\":{\n",
    "        \"variable\":[\"count\"],\n",
    "        \"cols_lambda\":lambda col: col.endswith(\"Count\") and col.startswith(\"P\"),\n",
    "        \"name\":\"period\"\n",
    "    },\n",
    "    \"weight_period\":{\n",
    "        \"variable\":[\"weight(g)\"],\n",
    "        \"cols_lambda\":lambda col: col.endswith(\"Wt\"),\n",
    "        \"name\":\"period\"\n",
    "    },\n",
    "    \"adg_period\":{\n",
    "        \"variable\":[\"ADG(g)\"],\n",
    "        \"cols_lambda\":lambda col: col.endswith(\"ADG\") and not col.startswith((\"Phase\",\"StoF\",\"ACI\")),\n",
    "        \"name\":\"period\"\n",
    "    },\n",
    "    \"adfi_period\":{\n",
    "        \"variable\":[\"ADFI(g)\"],\n",
    "        \"cols_lambda\":lambda col: col.endswith(\"ADFI\") and not col.startswith((\"Phase\",\"StoF\",\"ACI\")),\n",
    "        \"name\":\"period\"\n",
    "    },\n",
    "    \"fcr_period\":{\n",
    "        \"variable\":[\"FCR(g:g)\"],\n",
    "        \"cols_lambda\":lambda col: col.endswith(\"FCR\") and not col.startswith((\"Phase\",\"StoF\",\"ACI\")),\n",
    "        \"name\":\"period\"\n",
    "    },\n",
    "    \"adg_phase\":{\n",
    "        \"variable\":[\"ADG(g)\"],\n",
    "        \"cols_lambda\":lambda col: col.endswith(\"ADG\") and col.startswith(\"Phase\"),\n",
    "        \"name\":\"phase\"\n",
    "    },\n",
    "    \"adfi_phase\":{\n",
    "        \"variable\":[\"ADFI(g)\"],\n",
    "        \"cols_lambda\":lambda col: col.endswith(\"ADFI\") and col.startswith(\"Phase\"),\n",
    "        \"name\":\"phase\"\n",
    "    },\n",
    "    \"fcr_phase\":{\n",
    "        \"variable\":[\"FCR(g:g)\"],\n",
    "        \"cols_lambda\":lambda col: col.endswith(\"FCR\") and col.startswith(\"Phase\"),\n",
    "        \"name\":\"phase\"\n",
    "    },\n",
    "}\n",
    "\n",
    "Performance(filename_input,sheet_name,bucket_name,experiment,folder,parameters)"
   ]
  },
  {
   "cell_type": "markdown",
   "metadata": {},
   "source": [
    "# E319:\n",
    "\n",
    "Performance:"
   ]
  },
  {
   "cell_type": "code",
   "execution_count": 7,
   "metadata": {},
   "outputs": [
    {
     "data": {
      "text/plain": [
       "Performance(filename_input='data/E319.xlsx', sheet_name='R', bucket_name='siwaexperiments', experiment='E319', folder='performance', parameters={'count_period': {'variable': ['count'], 'cols_lambda': <function <lambda> at 0x0000028B70E5F760>, 'name': 'period'}, 'weight_period': {'variable': ['weight(g)'], 'cols_lambda': <function <lambda> at 0x0000028B70E5F7F0>, 'name': 'period'}, 'adg_period': {'variable': ['ADG(g)'], 'cols_lambda': <function <lambda> at 0x0000028B70E5EEF0>, 'name': 'period'}, 'adfi_period': {'variable': ['ADFI(g)'], 'cols_lambda': <function <lambda> at 0x0000028B7171ED40>, 'name': 'period'}, 'fcr_period': {'variable': ['FCR(g:g)'], 'cols_lambda': <function <lambda> at 0x0000028B7171EC20>, 'name': 'period'}, 'adg_phase': {'variable': ['ADG(g)'], 'cols_lambda': <function <lambda> at 0x0000028B7171EB90>, 'name': 'phase'}, 'adfi_phase': {'variable': ['ADFI(g)'], 'cols_lambda': <function <lambda> at 0x0000028B7171DBD0>, 'name': 'phase'}, 'fcr_phase': {'variable': ['FCR(g:g)'], 'cols_lambda': <function <lambda> at 0x0000028B7171DB40>, 'name': 'phase'}})"
      ]
     },
     "execution_count": 7,
     "metadata": {},
     "output_type": "execute_result"
    }
   ],
   "source": [
    "filename_input = \"data/E319.xlsx\" # Archivo de donde se extreará la data\n",
    "sheet_name=\"R\" # Nombre de la hoja donde se encuentran los datos\n",
    "bucket_name = \"siwaexperiments\" # Nombre del bucket donde se guardarán los datos\n",
    "experiment = \"E319\" # Nombre de la carpeta dentro del bucket para un experimento\n",
    "folder = \"performance\" # Carpeta donde se guardará el archivo de salida\n",
    "\n",
    "parameters = {\n",
    "    \"count_period\":{\n",
    "        \"variable\":[\"count\"],\n",
    "        \"cols_lambda\":lambda col: col.endswith(\"Count\") and col.startswith(\"P\"),\n",
    "        \"name\":\"period\"\n",
    "    },\n",
    "    \"weight_period\":{\n",
    "        \"variable\":[\"weight(g)\"],\n",
    "        \"cols_lambda\":lambda col: col.endswith(\"Wt\"),\n",
    "        \"name\":\"period\"\n",
    "    },\n",
    "    \"adg_period\":{\n",
    "        \"variable\":[\"ADG(g)\"],\n",
    "        \"cols_lambda\":lambda col: col.endswith(\"ADG\") and not col.startswith((\"Phase\",\"StoF\",\"ACI\")),\n",
    "        \"name\":\"period\"\n",
    "    },\n",
    "    \"adfi_period\":{\n",
    "        \"variable\":[\"ADFI(g)\"],\n",
    "        \"cols_lambda\":lambda col: col.endswith(\"ADFI\") and not col.startswith((\"Phase\",\"StoF\",\"ACI\")),\n",
    "        \"name\":\"period\"\n",
    "    },\n",
    "    \"fcr_period\":{\n",
    "        \"variable\":[\"FCR(g:g)\"],\n",
    "        \"cols_lambda\":lambda col: col.endswith(\"FCR\") and not col.startswith((\"Phase\",\"StoF\",\"ACI\")),\n",
    "        \"name\":\"period\"\n",
    "    },\n",
    "    \"adg_phase\":{\n",
    "        \"variable\":[\"ADG(g)\"],\n",
    "        \"cols_lambda\":lambda col: col.endswith(\"ADG\") and col.startswith(\"Phase\"),\n",
    "        \"name\":\"phase\"\n",
    "    },\n",
    "    \"adfi_phase\":{\n",
    "        \"variable\":[\"ADFI(g)\"],\n",
    "        \"cols_lambda\":lambda col: col.endswith(\"ADFI\") and col.startswith(\"Phase\"),\n",
    "        \"name\":\"phase\"\n",
    "    },\n",
    "    \"fcr_phase\":{\n",
    "        \"variable\":[\"FCR(g:g)\"],\n",
    "        \"cols_lambda\":lambda col: col.endswith(\"FCR\") and col.startswith(\"Phase\"),\n",
    "        \"name\":\"phase\"\n",
    "    },\n",
    "}\n",
    "\n",
    "Performance(filename_input,sheet_name,bucket_name,experiment,folder,parameters)"
   ]
  },
  {
   "cell_type": "code",
   "execution_count": null,
   "metadata": {},
   "outputs": [],
   "source": []
  }
 ],
 "metadata": {
  "interpreter": {
   "hash": "5de476bc59ec71394b025dc8517eb97bb8f58150d7a54641264aca7a45165c05"
  },
  "kernelspec": {
   "display_name": "base",
   "language": "python",
   "name": "base"
  },
  "language_info": {
   "codemirror_mode": {
    "name": "ipython",
    "version": 3
   },
   "file_extension": ".py",
   "mimetype": "text/x-python",
   "name": "python",
   "nbconvert_exporter": "python",
   "pygments_lexer": "ipython3",
   "version": "3.8.12"
  }
 },
 "nbformat": 4,
 "nbformat_minor": 2
}
