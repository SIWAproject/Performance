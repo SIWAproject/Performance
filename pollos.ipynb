{
 "cells": [
  {
   "cell_type": "code",
   "execution_count": 1,
   "metadata": {},
   "outputs": [],
   "source": [
    "from importlib import reload  \n",
    "import poultry\n",
    "import s3utils"
   ]
  },
  {
   "cell_type": "code",
   "execution_count": 2,
   "metadata": {},
   "outputs": [
    {
     "data": {
      "text/plain": [
       "<module 's3utils' from '/Users/dvarelat/Documents/SIWA/dataExploration/Mappings granjas experimentales/s3utils.py'>"
      ]
     },
     "execution_count": 2,
     "metadata": {},
     "output_type": "execute_result"
    }
   ],
   "source": [
    "reload(poultry)\n",
    "reload(s3utils)"
   ]
  },
  {
   "cell_type": "code",
   "execution_count": 3,
   "metadata": {},
   "outputs": [],
   "source": [
    "from poultry import Treatment, DataToStat\n",
    "from s3utils import *"
   ]
  },
  {
   "cell_type": "markdown",
   "metadata": {},
   "source": [
    "# E345:\n",
    "\n",
    "No se tiene datos de resultados del experimento, estas columnas se encuentran vacias.\n",
    "\n",
    "Performance:"
   ]
  },
  {
   "cell_type": "code",
   "execution_count": 6,
   "metadata": {},
   "outputs": [],
   "source": [
    "filename_input = \"/Users/dvarelat/Documents/SIWA/dataExploration/DATA/raw.xlsx\" \n",
    "sheet_name='Data to stat' # Nombre de la hoja donde se encuentran los tratamientos\n",
    "\n",
    "# AWS\n",
    "bucket_name = \"siwaexperiments\" # Nombre del bucket donde se guardarán los datos\n",
    "experiment = \"E345\" # Nombre de la carpeta dentro del bucket para un experimento\n",
    "folder_aws = \"performance\" # Carpeta donde se guardarán los archivos de salida\n",
    "\n",
    "# Diccionario que relaciona el nombre de la fase con la cantidad de dias de esta\n",
    "phase2days = {\n",
    "}\n",
    "\n",
    "# En este diccionario se definen los parametros para la extraccion de cada variable\n",
    "# en el archivo de raw data. En teoria si el archivo cumple con la estructura diseñada\n",
    "# no es necesario modificar nada de este diccionario\n",
    "parameters = {\n",
    "    \"bw\":{\n",
    "        \"name_cols\":['BW(g)'], #Este es el nombre con el que quedará la variable en el archivo de salida\n",
    "        \"startswith\":\"BW \", # Los nombres de las columnas relacionadas con esta variable esta relacionada con el texto de startswith\n",
    "        \"p2d\":False # Si los nombres de las columnas indican la phase como texto(ejemplo: Starter)\n",
    "        # esta variable debe ser True, de lo contrario(ejemplo: 0-10d) esta debe ser False\n",
    "    },\n",
    "    \"wc\":{\n",
    "        \"name_cols\":['WC(g)'],\n",
    "        \"startswith\":\"WC \",\n",
    "        \"p2d\":False\n",
    "    },\n",
    "    \"fi\":{\n",
    "        \"name_cols\":['FI(g)'],\n",
    "        \"startswith\":\"FI \",\n",
    "        \"p2d\":False\n",
    "    },\n",
    "    \"bwg\":{\n",
    "        \"name_cols\":['BWG(g)','BWG_correct(g)'],\n",
    "        \"startswith\":\"BWG\",\n",
    "        \"p2d\":False\n",
    "    },\n",
    "    \"fcr\":{\n",
    "        \"name_cols\":['FCR(g:g)','FCR_correct(g:g)'],\n",
    "        \"startswith\":\"FCR\",\n",
    "        \"p2d\":False\n",
    "    },\n",
    "    \"mort_cull\":{\n",
    "        \"name_cols\":['mortality(%)','culling(%)'],\n",
    "        \"startswith\":('Mortality','Culling'),\n",
    "        \"p2d\":False\n",
    "    },\n",
    "    \"count\":{\n",
    "        \"name_cols\":['num_inicial','num_final'],\n",
    "        \"startswith\":\"#\",\n",
    "        \"p2d\":True\n",
    "    },\n",
    "}"
   ]
  },
  {
   "cell_type": "code",
   "execution_count": 13,
   "metadata": {},
   "outputs": [
    {
     "name": "stdout",
     "output_type": "stream",
     "text": [
      "Uploading  to s3://siwaexperimentsE345/raw.xlsx\n",
      "Processing bw\n",
      "File already exists: E345/performance/bw.csv and overwrite FALSE\n",
      "Processing wc\n",
      "Processing fi\n",
      "File already exists: E345/performance/fi.csv and overwrite FALSE\n",
      "Processing bwg\n",
      "File already exists: E345/performance/bwg.csv and overwrite FALSE\n",
      "Processing fcr\n",
      "File already exists: E345/performance/fcr.csv and overwrite FALSE\n",
      "Processing mort_cull\n",
      "File already exists: E345/performance/mort_cull.csv and overwrite FALSE\n",
      "Processing count\n"
     ]
    },
    {
     "data": {
      "text/plain": [
       "DataToStat(filename='/Users/dvarelat/Documents/SIWA/dataExploration/DATA/raw.xlsx', sheet_name='Data to stat', bucket_name='siwaexperiments', experiment='E345', folder_aws='performance', parameters={'bw': {'name_cols': ['BW(g)'], 'startswith': 'BW ', 'p2d': False}, 'wc': {'name_cols': ['WC(g)'], 'startswith': 'WC ', 'p2d': False}, 'fi': {'name_cols': ['FI(g)'], 'startswith': 'FI ', 'p2d': False}, 'bwg': {'name_cols': ['BWG(g)', 'BWG_correct(g)'], 'startswith': 'BWG', 'p2d': False}, 'fcr': {'name_cols': ['FCR(g:g)', 'FCR_correct(g:g)'], 'startswith': 'FCR', 'p2d': False}, 'mort_cull': {'name_cols': ['mortality(%)', 'culling(%)'], 'startswith': ('Mortality', 'Culling'), 'p2d': False}, 'count': {'name_cols': ['num_inicial', 'num_final'], 'startswith': '#', 'p2d': True}}, phase2days={}, overwrite=False)"
      ]
     },
     "execution_count": 13,
     "metadata": {},
     "output_type": "execute_result"
    }
   ],
   "source": [
    "DataToStat(filename_input,sheet_name,bucket_name,experiment,folder_aws,parameters,phase2days, overwrite=False)"
   ]
  },
  {
   "cell_type": "markdown",
   "metadata": {},
   "source": [
    "Treatments:"
   ]
  },
  {
   "cell_type": "code",
   "execution_count": 3,
   "metadata": {},
   "outputs": [
    {
     "data": {
      "text/plain": [
       "Treatment(filename='data/E345.xlsx', sheet_name='Treatments', bucket_name='siwaexperiments', experiment='E345', folder_aws='', filename_output='treatments')"
      ]
     },
     "execution_count": 3,
     "metadata": {},
     "output_type": "execute_result"
    }
   ],
   "source": [
    "filename = filename_input # Archivo de donde se extreará los tratamientos\n",
    "sheet_name='Treatments' # Nombre de la hoja donde se encuentran los tratamientos\n",
    "bucket_name = \"siwaexperiments\" # Nombre del bucket donde se guardarán los datos\n",
    "experiment = \"E345\" # Nombre de la carpeta dentro del bucket para un experimento\n",
    "folder_aws = \"\" # Carpeta donde se guardará el archivo de salida\n",
    "filename_output = \"treatments\" # Nombre del archivo de salida"
   ]
  },
  {
   "cell_type": "code",
   "execution_count": null,
   "metadata": {},
   "outputs": [],
   "source": [
    "Treatment(filename_input,sheet_name,bucket_name,experiment,folder_aws,filename_output)"
   ]
  },
  {
   "cell_type": "markdown",
   "metadata": {},
   "source": [
    "# E335:\n",
    "\n",
    "Performance:"
   ]
  },
  {
   "cell_type": "code",
   "execution_count": 18,
   "metadata": {},
   "outputs": [
    {
     "name": "stdout",
     "output_type": "stream",
     "text": [
      "Uploading  to s3://siwaexperimentsE335/raw.xlsx\n",
      "Processing bw\n",
      "File already exists: E335/performance/bw.csv and overwrite FALSE\n",
      "Processing wc\n",
      "File already exists: E335/performance/wc.csv and overwrite FALSE\n",
      "Processing fi\n",
      "File already exists: E335/performance/fi.csv and overwrite FALSE\n",
      "Processing bwg\n",
      "File already exists: E335/performance/bwg.csv and overwrite FALSE\n",
      "Processing fcr\n",
      "File already exists: E335/performance/fcr.csv and overwrite FALSE\n",
      "Processing mort_cull\n",
      "File already exists: E335/performance/mort_cull.csv and overwrite FALSE\n",
      "Processing count\n",
      "File already exists: E335/performance/count.csv and overwrite FALSE\n"
     ]
    },
    {
     "data": {
      "text/plain": [
       "DataToStat(filename='/Users/dvarelat/Documents/SIWA/dataExploration/DATA/raw335.xlsx', sheet_name='Data to stat', bucket_name='siwaexperiments', experiment='E335', folder_aws='performance', parameters={'bw': {'name_cols': ['BW(g)'], 'startswith': 'BW ', 'p2d': False}, 'wc': {'name_cols': ['WC(g)'], 'startswith': 'WC ', 'p2d': False}, 'fi': {'name_cols': ['FI(g)'], 'startswith': 'FI ', 'p2d': False}, 'bwg': {'name_cols': ['BWG(g)', 'BWG_correct(g)'], 'startswith': 'BWG', 'p2d': False}, 'fcr': {'name_cols': ['FCR(g:g)', 'FCR_correct(g:g)'], 'startswith': 'FCR', 'p2d': False}, 'mort_cull': {'name_cols': ['mortality(%)', 'culling(%)'], 'startswith': ('Mortality', 'Culling'), 'p2d': False}, 'count': {'name_cols': ['num_inicial', 'num_final'], 'startswith': '#', 'p2d': True}}, phase2days={'PreSt': '0-10d', 'St': '11-21d', 'Fn': '22-42d'}, overwrite=False)"
      ]
     },
     "execution_count": 18,
     "metadata": {},
     "output_type": "execute_result"
    }
   ],
   "source": [
    "filename_input = \"/Users/dvarelat/Documents/SIWA/dataExploration/DATA/raw335.xlsx\" \n",
    "sheet_name='Data to stat' # Nombre de la hoja donde se encuentran los tratamientos\n",
    "\n",
    "# AWS\n",
    "bucket_name = \"siwaexperiments\" # Nombre del bucket donde se guardarán los datos\n",
    "experiment = \"E335\" # Nombre de la carpeta dentro del bucket para un experimento\n",
    "folder_aws = \"performance\" # Carpeta donde se guardarán los archivos de salida\n",
    "\n",
    "# Diccionario que relaciona el nombre de la fase con la cantidad de dias de esta\n",
    "phase2days = {\n",
    "    \"PreSt\":\"0-10d\",\n",
    "    \"St\":\"11-21d\",\n",
    "    \"Fn\":\"22-42d\"\n",
    "}\n",
    "\n",
    "parameters = {\n",
    "    \"bw\":{\n",
    "        \"name_cols\":['BW(g)'],\n",
    "        \"startswith\":\"BW \",\n",
    "        \"p2d\":False\n",
    "    },\n",
    "    \"wc\":{\n",
    "        \"name_cols\":['WC(g)'],\n",
    "        \"startswith\":\"WC \",\n",
    "        \"p2d\":False\n",
    "    },\n",
    "    \"fi\":{\n",
    "        \"name_cols\":['FI(g)'],\n",
    "        \"startswith\":\"FI \",\n",
    "        \"p2d\":False\n",
    "    },\n",
    "    \"bwg\":{\n",
    "        \"name_cols\":['BWG(g)','BWG_correct(g)'],\n",
    "        \"startswith\":\"BWG\",\n",
    "        \"p2d\":False\n",
    "    },\n",
    "    \"fcr\":{\n",
    "        \"name_cols\":['FCR(g:g)','FCR_correct(g:g)'],\n",
    "        \"startswith\":\"FCR\",\n",
    "        \"p2d\":False\n",
    "    },\n",
    "    \"mort_cull\":{\n",
    "        \"name_cols\":['mortality(%)','culling(%)'],\n",
    "        \"startswith\":('Mortality','Culling'),\n",
    "        \"p2d\":False\n",
    "    },\n",
    "    \"count\":{\n",
    "        \"name_cols\":['num_inicial','num_final'],\n",
    "        \"startswith\":\"#\",\n",
    "        \"p2d\":True\n",
    "    },\n",
    "}\n",
    "\n",
    "DataToStat(filename_input,sheet_name,bucket_name,experiment,folder_aws,parameters,phase2days, overwrite=False)"
   ]
  },
  {
   "cell_type": "markdown",
   "metadata": {},
   "source": [
    "Treatments:"
   ]
  },
  {
   "cell_type": "code",
   "execution_count": 17,
   "metadata": {},
   "outputs": [
    {
     "ename": "ValueError",
     "evalue": "Worksheet named 'Treatments' not found",
     "output_type": "error",
     "traceback": [
      "\u001b[0;31m---------------------------------------------------------------------------\u001b[0m",
      "\u001b[0;31mValueError\u001b[0m                                Traceback (most recent call last)",
      "Input \u001b[0;32mIn [17]\u001b[0m, in \u001b[0;36m<module>\u001b[0;34m\u001b[0m\n\u001b[1;32m      5\u001b[0m folder_aws \u001b[38;5;241m=\u001b[39m \u001b[38;5;124m\"\u001b[39m\u001b[38;5;124m\"\u001b[39m \u001b[38;5;66;03m# Carpeta donde se guardará el archivo de salida\u001b[39;00m\n\u001b[1;32m      6\u001b[0m filename_output \u001b[38;5;241m=\u001b[39m \u001b[38;5;124m\"\u001b[39m\u001b[38;5;124mtreatments\u001b[39m\u001b[38;5;124m\"\u001b[39m \u001b[38;5;66;03m# Nombre del archivo de salida\u001b[39;00m\n\u001b[0;32m----> 7\u001b[0m \u001b[43mTreatment\u001b[49m\u001b[43m(\u001b[49m\u001b[43mfilename_input\u001b[49m\u001b[43m,\u001b[49m\u001b[43msheet_name\u001b[49m\u001b[43m,\u001b[49m\u001b[43mbucket_name\u001b[49m\u001b[43m,\u001b[49m\u001b[43mexperiment\u001b[49m\u001b[43m,\u001b[49m\u001b[43mfolder_aws\u001b[49m\u001b[43m,\u001b[49m\u001b[43mfilename_output\u001b[49m\u001b[43m,\u001b[49m\u001b[43m \u001b[49m\u001b[43moverwrite\u001b[49m\u001b[38;5;241;43m=\u001b[39;49m\u001b[38;5;28;43;01mFalse\u001b[39;49;00m\u001b[43m)\u001b[49m\n",
      "File \u001b[0;32m<string>:10\u001b[0m, in \u001b[0;36m__init__\u001b[0;34m(self, filename, sheet_name, bucket_name, experiment, folder_aws, filename_output, overwrite)\u001b[0m\n",
      "File \u001b[0;32m~/Documents/SIWA/dataExploration/Mappings granjas experimentales/poultry.py:23\u001b[0m, in \u001b[0;36mTreatment.__post_init__\u001b[0;34m(self, overwrite)\u001b[0m\n\u001b[1;32m     22\u001b[0m \u001b[38;5;28;01mdef\u001b[39;00m \u001b[38;5;21m__post_init__\u001b[39m(\u001b[38;5;28mself\u001b[39m, overwrite\u001b[38;5;241m=\u001b[39m\u001b[38;5;28;01mFalse\u001b[39;00m) \u001b[38;5;241m-\u001b[39m\u001b[38;5;241m>\u001b[39m \u001b[38;5;28;01mNone\u001b[39;00m:\n\u001b[0;32m---> 23\u001b[0m     \u001b[38;5;28;43mself\u001b[39;49m\u001b[38;5;241;43m.\u001b[39;49m\u001b[43msetVariables\u001b[49m\u001b[43m(\u001b[49m\u001b[43m)\u001b[49m\n\u001b[1;32m     24\u001b[0m     \u001b[38;5;28mself\u001b[39m\u001b[38;5;241m.\u001b[39mtransform()\n\u001b[1;32m     25\u001b[0m     \u001b[38;5;28mself\u001b[39m\u001b[38;5;241m.\u001b[39msetTreatments()\n",
      "File \u001b[0;32m~/Documents/SIWA/dataExploration/Mappings granjas experimentales/poultry.py:34\u001b[0m, in \u001b[0;36mTreatment.setVariables\u001b[0;34m(self)\u001b[0m\n\u001b[1;32m     30\u001b[0m \u001b[38;5;28;01mdef\u001b[39;00m \u001b[38;5;21msetVariables\u001b[39m(\u001b[38;5;28mself\u001b[39m) \u001b[38;5;241m-\u001b[39m\u001b[38;5;241m>\u001b[39m \u001b[38;5;28;01mNone\u001b[39;00m:\n\u001b[1;32m     31\u001b[0m     \u001b[38;5;124;03m\"\"\"Se carga raw data, se definen los nombres de las columnas del archivo de salida\u001b[39;00m\n\u001b[1;32m     32\u001b[0m \u001b[38;5;124;03m    y se identifican los indices de cada fase\u001b[39;00m\n\u001b[1;32m     33\u001b[0m \u001b[38;5;124;03m    \"\"\"\u001b[39;00m\n\u001b[0;32m---> 34\u001b[0m     \u001b[38;5;28mself\u001b[39m\u001b[38;5;241m.\u001b[39mraw \u001b[38;5;241m=\u001b[39m \u001b[43mpd\u001b[49m\u001b[38;5;241;43m.\u001b[39;49m\u001b[43mread_excel\u001b[49m\u001b[43m(\u001b[49m\u001b[38;5;28;43mself\u001b[39;49m\u001b[38;5;241;43m.\u001b[39;49m\u001b[43mfilename\u001b[49m\u001b[43m,\u001b[49m\u001b[43m \u001b[49m\u001b[43msheet_name\u001b[49m\u001b[38;5;241;43m=\u001b[39;49m\u001b[38;5;28;43mself\u001b[39;49m\u001b[38;5;241;43m.\u001b[39;49m\u001b[43msheet_name\u001b[49m\u001b[43m,\u001b[49m\u001b[43m \u001b[49m\u001b[43mheader\u001b[49m\u001b[38;5;241;43m=\u001b[39;49m\u001b[38;5;28;43;01mNone\u001b[39;49;00m\u001b[43m)\u001b[49m\n\u001b[1;32m     35\u001b[0m     \u001b[38;5;28mself\u001b[39m\u001b[38;5;241m.\u001b[39mname_cols \u001b[38;5;241m=\u001b[39m \u001b[38;5;28mself\u001b[39m\u001b[38;5;241m.\u001b[39mraw\u001b[38;5;241m.\u001b[39miloc[\u001b[38;5;241m1\u001b[39m, \u001b[38;5;241m2\u001b[39m:]\u001b[38;5;241m.\u001b[39munique()\n\u001b[1;32m     36\u001b[0m     \u001b[38;5;28mself\u001b[39m\u001b[38;5;241m.\u001b[39midx_phases \u001b[38;5;241m=\u001b[39m np\u001b[38;5;241m.\u001b[39mwhere(\u001b[38;5;28mself\u001b[39m\u001b[38;5;241m.\u001b[39mraw\u001b[38;5;241m.\u001b[39miloc[\u001b[38;5;241m0\u001b[39m]\u001b[38;5;241m.\u001b[39misna() \u001b[38;5;241m==\u001b[39m \u001b[38;5;28;01mFalse\u001b[39;00m)[\u001b[38;5;241m0\u001b[39m][\u001b[38;5;241m2\u001b[39m:]\n",
      "File \u001b[0;32m/opt/miniconda3/lib/python3.8/site-packages/pandas/util/_decorators.py:311\u001b[0m, in \u001b[0;36mdeprecate_nonkeyword_arguments.<locals>.decorate.<locals>.wrapper\u001b[0;34m(*args, **kwargs)\u001b[0m\n\u001b[1;32m    305\u001b[0m \u001b[38;5;28;01mif\u001b[39;00m \u001b[38;5;28mlen\u001b[39m(args) \u001b[38;5;241m>\u001b[39m num_allow_args:\n\u001b[1;32m    306\u001b[0m     warnings\u001b[38;5;241m.\u001b[39mwarn(\n\u001b[1;32m    307\u001b[0m         msg\u001b[38;5;241m.\u001b[39mformat(arguments\u001b[38;5;241m=\u001b[39marguments),\n\u001b[1;32m    308\u001b[0m         \u001b[38;5;167;01mFutureWarning\u001b[39;00m,\n\u001b[1;32m    309\u001b[0m         stacklevel\u001b[38;5;241m=\u001b[39mstacklevel,\n\u001b[1;32m    310\u001b[0m     )\n\u001b[0;32m--> 311\u001b[0m \u001b[38;5;28;01mreturn\u001b[39;00m \u001b[43mfunc\u001b[49m\u001b[43m(\u001b[49m\u001b[38;5;241;43m*\u001b[39;49m\u001b[43margs\u001b[49m\u001b[43m,\u001b[49m\u001b[43m \u001b[49m\u001b[38;5;241;43m*\u001b[39;49m\u001b[38;5;241;43m*\u001b[39;49m\u001b[43mkwargs\u001b[49m\u001b[43m)\u001b[49m\n",
      "File \u001b[0;32m/opt/miniconda3/lib/python3.8/site-packages/pandas/io/excel/_base.py:372\u001b[0m, in \u001b[0;36mread_excel\u001b[0;34m(io, sheet_name, header, names, index_col, usecols, squeeze, dtype, engine, converters, true_values, false_values, skiprows, nrows, na_values, keep_default_na, na_filter, verbose, parse_dates, date_parser, thousands, comment, skipfooter, convert_float, mangle_dupe_cols, storage_options)\u001b[0m\n\u001b[1;32m    366\u001b[0m     \u001b[38;5;28;01mraise\u001b[39;00m \u001b[38;5;167;01mValueError\u001b[39;00m(\n\u001b[1;32m    367\u001b[0m         \u001b[38;5;124m\"\u001b[39m\u001b[38;5;124mEngine should not be specified when passing \u001b[39m\u001b[38;5;124m\"\u001b[39m\n\u001b[1;32m    368\u001b[0m         \u001b[38;5;124m\"\u001b[39m\u001b[38;5;124man ExcelFile - ExcelFile already has the engine set\u001b[39m\u001b[38;5;124m\"\u001b[39m\n\u001b[1;32m    369\u001b[0m     )\n\u001b[1;32m    371\u001b[0m \u001b[38;5;28;01mtry\u001b[39;00m:\n\u001b[0;32m--> 372\u001b[0m     data \u001b[38;5;241m=\u001b[39m \u001b[43mio\u001b[49m\u001b[38;5;241;43m.\u001b[39;49m\u001b[43mparse\u001b[49m\u001b[43m(\u001b[49m\n\u001b[1;32m    373\u001b[0m \u001b[43m        \u001b[49m\u001b[43msheet_name\u001b[49m\u001b[38;5;241;43m=\u001b[39;49m\u001b[43msheet_name\u001b[49m\u001b[43m,\u001b[49m\n\u001b[1;32m    374\u001b[0m \u001b[43m        \u001b[49m\u001b[43mheader\u001b[49m\u001b[38;5;241;43m=\u001b[39;49m\u001b[43mheader\u001b[49m\u001b[43m,\u001b[49m\n\u001b[1;32m    375\u001b[0m \u001b[43m        \u001b[49m\u001b[43mnames\u001b[49m\u001b[38;5;241;43m=\u001b[39;49m\u001b[43mnames\u001b[49m\u001b[43m,\u001b[49m\n\u001b[1;32m    376\u001b[0m \u001b[43m        \u001b[49m\u001b[43mindex_col\u001b[49m\u001b[38;5;241;43m=\u001b[39;49m\u001b[43mindex_col\u001b[49m\u001b[43m,\u001b[49m\n\u001b[1;32m    377\u001b[0m \u001b[43m        \u001b[49m\u001b[43musecols\u001b[49m\u001b[38;5;241;43m=\u001b[39;49m\u001b[43musecols\u001b[49m\u001b[43m,\u001b[49m\n\u001b[1;32m    378\u001b[0m \u001b[43m        \u001b[49m\u001b[43msqueeze\u001b[49m\u001b[38;5;241;43m=\u001b[39;49m\u001b[43msqueeze\u001b[49m\u001b[43m,\u001b[49m\n\u001b[1;32m    379\u001b[0m \u001b[43m        \u001b[49m\u001b[43mdtype\u001b[49m\u001b[38;5;241;43m=\u001b[39;49m\u001b[43mdtype\u001b[49m\u001b[43m,\u001b[49m\n\u001b[1;32m    380\u001b[0m \u001b[43m        \u001b[49m\u001b[43mconverters\u001b[49m\u001b[38;5;241;43m=\u001b[39;49m\u001b[43mconverters\u001b[49m\u001b[43m,\u001b[49m\n\u001b[1;32m    381\u001b[0m \u001b[43m        \u001b[49m\u001b[43mtrue_values\u001b[49m\u001b[38;5;241;43m=\u001b[39;49m\u001b[43mtrue_values\u001b[49m\u001b[43m,\u001b[49m\n\u001b[1;32m    382\u001b[0m \u001b[43m        \u001b[49m\u001b[43mfalse_values\u001b[49m\u001b[38;5;241;43m=\u001b[39;49m\u001b[43mfalse_values\u001b[49m\u001b[43m,\u001b[49m\n\u001b[1;32m    383\u001b[0m \u001b[43m        \u001b[49m\u001b[43mskiprows\u001b[49m\u001b[38;5;241;43m=\u001b[39;49m\u001b[43mskiprows\u001b[49m\u001b[43m,\u001b[49m\n\u001b[1;32m    384\u001b[0m \u001b[43m        \u001b[49m\u001b[43mnrows\u001b[49m\u001b[38;5;241;43m=\u001b[39;49m\u001b[43mnrows\u001b[49m\u001b[43m,\u001b[49m\n\u001b[1;32m    385\u001b[0m \u001b[43m        \u001b[49m\u001b[43mna_values\u001b[49m\u001b[38;5;241;43m=\u001b[39;49m\u001b[43mna_values\u001b[49m\u001b[43m,\u001b[49m\n\u001b[1;32m    386\u001b[0m \u001b[43m        \u001b[49m\u001b[43mkeep_default_na\u001b[49m\u001b[38;5;241;43m=\u001b[39;49m\u001b[43mkeep_default_na\u001b[49m\u001b[43m,\u001b[49m\n\u001b[1;32m    387\u001b[0m \u001b[43m        \u001b[49m\u001b[43mna_filter\u001b[49m\u001b[38;5;241;43m=\u001b[39;49m\u001b[43mna_filter\u001b[49m\u001b[43m,\u001b[49m\n\u001b[1;32m    388\u001b[0m \u001b[43m        \u001b[49m\u001b[43mverbose\u001b[49m\u001b[38;5;241;43m=\u001b[39;49m\u001b[43mverbose\u001b[49m\u001b[43m,\u001b[49m\n\u001b[1;32m    389\u001b[0m \u001b[43m        \u001b[49m\u001b[43mparse_dates\u001b[49m\u001b[38;5;241;43m=\u001b[39;49m\u001b[43mparse_dates\u001b[49m\u001b[43m,\u001b[49m\n\u001b[1;32m    390\u001b[0m \u001b[43m        \u001b[49m\u001b[43mdate_parser\u001b[49m\u001b[38;5;241;43m=\u001b[39;49m\u001b[43mdate_parser\u001b[49m\u001b[43m,\u001b[49m\n\u001b[1;32m    391\u001b[0m \u001b[43m        \u001b[49m\u001b[43mthousands\u001b[49m\u001b[38;5;241;43m=\u001b[39;49m\u001b[43mthousands\u001b[49m\u001b[43m,\u001b[49m\n\u001b[1;32m    392\u001b[0m \u001b[43m        \u001b[49m\u001b[43mcomment\u001b[49m\u001b[38;5;241;43m=\u001b[39;49m\u001b[43mcomment\u001b[49m\u001b[43m,\u001b[49m\n\u001b[1;32m    393\u001b[0m \u001b[43m        \u001b[49m\u001b[43mskipfooter\u001b[49m\u001b[38;5;241;43m=\u001b[39;49m\u001b[43mskipfooter\u001b[49m\u001b[43m,\u001b[49m\n\u001b[1;32m    394\u001b[0m \u001b[43m        \u001b[49m\u001b[43mconvert_float\u001b[49m\u001b[38;5;241;43m=\u001b[39;49m\u001b[43mconvert_float\u001b[49m\u001b[43m,\u001b[49m\n\u001b[1;32m    395\u001b[0m \u001b[43m        \u001b[49m\u001b[43mmangle_dupe_cols\u001b[49m\u001b[38;5;241;43m=\u001b[39;49m\u001b[43mmangle_dupe_cols\u001b[49m\u001b[43m,\u001b[49m\n\u001b[1;32m    396\u001b[0m \u001b[43m    \u001b[49m\u001b[43m)\u001b[49m\n\u001b[1;32m    397\u001b[0m \u001b[38;5;28;01mfinally\u001b[39;00m:\n\u001b[1;32m    398\u001b[0m     \u001b[38;5;66;03m# make sure to close opened file handles\u001b[39;00m\n\u001b[1;32m    399\u001b[0m     \u001b[38;5;28;01mif\u001b[39;00m should_close:\n",
      "File \u001b[0;32m/opt/miniconda3/lib/python3.8/site-packages/pandas/io/excel/_base.py:1272\u001b[0m, in \u001b[0;36mExcelFile.parse\u001b[0;34m(self, sheet_name, header, names, index_col, usecols, squeeze, converters, true_values, false_values, skiprows, nrows, na_values, parse_dates, date_parser, thousands, comment, skipfooter, convert_float, mangle_dupe_cols, **kwds)\u001b[0m\n\u001b[1;32m   1238\u001b[0m \u001b[38;5;28;01mdef\u001b[39;00m \u001b[38;5;21mparse\u001b[39m(\n\u001b[1;32m   1239\u001b[0m     \u001b[38;5;28mself\u001b[39m,\n\u001b[1;32m   1240\u001b[0m     sheet_name\u001b[38;5;241m=\u001b[39m\u001b[38;5;241m0\u001b[39m,\n\u001b[0;32m   (...)\u001b[0m\n\u001b[1;32m   1259\u001b[0m     \u001b[38;5;241m*\u001b[39m\u001b[38;5;241m*\u001b[39mkwds,\n\u001b[1;32m   1260\u001b[0m ):\n\u001b[1;32m   1261\u001b[0m     \u001b[38;5;124;03m\"\"\"\u001b[39;00m\n\u001b[1;32m   1262\u001b[0m \u001b[38;5;124;03m    Parse specified sheet(s) into a DataFrame.\u001b[39;00m\n\u001b[1;32m   1263\u001b[0m \n\u001b[0;32m   (...)\u001b[0m\n\u001b[1;32m   1270\u001b[0m \u001b[38;5;124;03m        DataFrame from the passed in Excel file.\u001b[39;00m\n\u001b[1;32m   1271\u001b[0m \u001b[38;5;124;03m    \"\"\"\u001b[39;00m\n\u001b[0;32m-> 1272\u001b[0m     \u001b[38;5;28;01mreturn\u001b[39;00m \u001b[38;5;28;43mself\u001b[39;49m\u001b[38;5;241;43m.\u001b[39;49m\u001b[43m_reader\u001b[49m\u001b[38;5;241;43m.\u001b[39;49m\u001b[43mparse\u001b[49m\u001b[43m(\u001b[49m\n\u001b[1;32m   1273\u001b[0m \u001b[43m        \u001b[49m\u001b[43msheet_name\u001b[49m\u001b[38;5;241;43m=\u001b[39;49m\u001b[43msheet_name\u001b[49m\u001b[43m,\u001b[49m\n\u001b[1;32m   1274\u001b[0m \u001b[43m        \u001b[49m\u001b[43mheader\u001b[49m\u001b[38;5;241;43m=\u001b[39;49m\u001b[43mheader\u001b[49m\u001b[43m,\u001b[49m\n\u001b[1;32m   1275\u001b[0m \u001b[43m        \u001b[49m\u001b[43mnames\u001b[49m\u001b[38;5;241;43m=\u001b[39;49m\u001b[43mnames\u001b[49m\u001b[43m,\u001b[49m\n\u001b[1;32m   1276\u001b[0m \u001b[43m        \u001b[49m\u001b[43mindex_col\u001b[49m\u001b[38;5;241;43m=\u001b[39;49m\u001b[43mindex_col\u001b[49m\u001b[43m,\u001b[49m\n\u001b[1;32m   1277\u001b[0m \u001b[43m        \u001b[49m\u001b[43musecols\u001b[49m\u001b[38;5;241;43m=\u001b[39;49m\u001b[43musecols\u001b[49m\u001b[43m,\u001b[49m\n\u001b[1;32m   1278\u001b[0m \u001b[43m        \u001b[49m\u001b[43msqueeze\u001b[49m\u001b[38;5;241;43m=\u001b[39;49m\u001b[43msqueeze\u001b[49m\u001b[43m,\u001b[49m\n\u001b[1;32m   1279\u001b[0m \u001b[43m        \u001b[49m\u001b[43mconverters\u001b[49m\u001b[38;5;241;43m=\u001b[39;49m\u001b[43mconverters\u001b[49m\u001b[43m,\u001b[49m\n\u001b[1;32m   1280\u001b[0m \u001b[43m        \u001b[49m\u001b[43mtrue_values\u001b[49m\u001b[38;5;241;43m=\u001b[39;49m\u001b[43mtrue_values\u001b[49m\u001b[43m,\u001b[49m\n\u001b[1;32m   1281\u001b[0m \u001b[43m        \u001b[49m\u001b[43mfalse_values\u001b[49m\u001b[38;5;241;43m=\u001b[39;49m\u001b[43mfalse_values\u001b[49m\u001b[43m,\u001b[49m\n\u001b[1;32m   1282\u001b[0m \u001b[43m        \u001b[49m\u001b[43mskiprows\u001b[49m\u001b[38;5;241;43m=\u001b[39;49m\u001b[43mskiprows\u001b[49m\u001b[43m,\u001b[49m\n\u001b[1;32m   1283\u001b[0m \u001b[43m        \u001b[49m\u001b[43mnrows\u001b[49m\u001b[38;5;241;43m=\u001b[39;49m\u001b[43mnrows\u001b[49m\u001b[43m,\u001b[49m\n\u001b[1;32m   1284\u001b[0m \u001b[43m        \u001b[49m\u001b[43mna_values\u001b[49m\u001b[38;5;241;43m=\u001b[39;49m\u001b[43mna_values\u001b[49m\u001b[43m,\u001b[49m\n\u001b[1;32m   1285\u001b[0m \u001b[43m        \u001b[49m\u001b[43mparse_dates\u001b[49m\u001b[38;5;241;43m=\u001b[39;49m\u001b[43mparse_dates\u001b[49m\u001b[43m,\u001b[49m\n\u001b[1;32m   1286\u001b[0m \u001b[43m        \u001b[49m\u001b[43mdate_parser\u001b[49m\u001b[38;5;241;43m=\u001b[39;49m\u001b[43mdate_parser\u001b[49m\u001b[43m,\u001b[49m\n\u001b[1;32m   1287\u001b[0m \u001b[43m        \u001b[49m\u001b[43mthousands\u001b[49m\u001b[38;5;241;43m=\u001b[39;49m\u001b[43mthousands\u001b[49m\u001b[43m,\u001b[49m\n\u001b[1;32m   1288\u001b[0m \u001b[43m        \u001b[49m\u001b[43mcomment\u001b[49m\u001b[38;5;241;43m=\u001b[39;49m\u001b[43mcomment\u001b[49m\u001b[43m,\u001b[49m\n\u001b[1;32m   1289\u001b[0m \u001b[43m        \u001b[49m\u001b[43mskipfooter\u001b[49m\u001b[38;5;241;43m=\u001b[39;49m\u001b[43mskipfooter\u001b[49m\u001b[43m,\u001b[49m\n\u001b[1;32m   1290\u001b[0m \u001b[43m        \u001b[49m\u001b[43mconvert_float\u001b[49m\u001b[38;5;241;43m=\u001b[39;49m\u001b[43mconvert_float\u001b[49m\u001b[43m,\u001b[49m\n\u001b[1;32m   1291\u001b[0m \u001b[43m        \u001b[49m\u001b[43mmangle_dupe_cols\u001b[49m\u001b[38;5;241;43m=\u001b[39;49m\u001b[43mmangle_dupe_cols\u001b[49m\u001b[43m,\u001b[49m\n\u001b[1;32m   1292\u001b[0m \u001b[43m        \u001b[49m\u001b[38;5;241;43m*\u001b[39;49m\u001b[38;5;241;43m*\u001b[39;49m\u001b[43mkwds\u001b[49m\u001b[43m,\u001b[49m\n\u001b[1;32m   1293\u001b[0m \u001b[43m    \u001b[49m\u001b[43m)\u001b[49m\n",
      "File \u001b[0;32m/opt/miniconda3/lib/python3.8/site-packages/pandas/io/excel/_base.py:535\u001b[0m, in \u001b[0;36mBaseExcelReader.parse\u001b[0;34m(self, sheet_name, header, names, index_col, usecols, squeeze, dtype, true_values, false_values, skiprows, nrows, na_values, verbose, parse_dates, date_parser, thousands, comment, skipfooter, convert_float, mangle_dupe_cols, **kwds)\u001b[0m\n\u001b[1;32m    532\u001b[0m     \u001b[38;5;28mprint\u001b[39m(\u001b[38;5;124mf\u001b[39m\u001b[38;5;124m\"\u001b[39m\u001b[38;5;124mReading sheet \u001b[39m\u001b[38;5;132;01m{\u001b[39;00masheetname\u001b[38;5;132;01m}\u001b[39;00m\u001b[38;5;124m\"\u001b[39m)\n\u001b[1;32m    534\u001b[0m \u001b[38;5;28;01mif\u001b[39;00m \u001b[38;5;28misinstance\u001b[39m(asheetname, \u001b[38;5;28mstr\u001b[39m):\n\u001b[0;32m--> 535\u001b[0m     sheet \u001b[38;5;241m=\u001b[39m \u001b[38;5;28;43mself\u001b[39;49m\u001b[38;5;241;43m.\u001b[39;49m\u001b[43mget_sheet_by_name\u001b[49m\u001b[43m(\u001b[49m\u001b[43masheetname\u001b[49m\u001b[43m)\u001b[49m\n\u001b[1;32m    536\u001b[0m \u001b[38;5;28;01melse\u001b[39;00m:  \u001b[38;5;66;03m# assume an integer if not a string\u001b[39;00m\n\u001b[1;32m    537\u001b[0m     sheet \u001b[38;5;241m=\u001b[39m \u001b[38;5;28mself\u001b[39m\u001b[38;5;241m.\u001b[39mget_sheet_by_index(asheetname)\n",
      "File \u001b[0;32m/opt/miniconda3/lib/python3.8/site-packages/pandas/io/excel/_openpyxl.py:542\u001b[0m, in \u001b[0;36mOpenpyxlReader.get_sheet_by_name\u001b[0;34m(self, name)\u001b[0m\n\u001b[1;32m    541\u001b[0m \u001b[38;5;28;01mdef\u001b[39;00m \u001b[38;5;21mget_sheet_by_name\u001b[39m(\u001b[38;5;28mself\u001b[39m, name: \u001b[38;5;28mstr\u001b[39m):\n\u001b[0;32m--> 542\u001b[0m     \u001b[38;5;28;43mself\u001b[39;49m\u001b[38;5;241;43m.\u001b[39;49m\u001b[43mraise_if_bad_sheet_by_name\u001b[49m\u001b[43m(\u001b[49m\u001b[43mname\u001b[49m\u001b[43m)\u001b[49m\n\u001b[1;32m    543\u001b[0m     \u001b[38;5;28;01mreturn\u001b[39;00m \u001b[38;5;28mself\u001b[39m\u001b[38;5;241m.\u001b[39mbook[name]\n",
      "File \u001b[0;32m/opt/miniconda3/lib/python3.8/site-packages/pandas/io/excel/_base.py:474\u001b[0m, in \u001b[0;36mBaseExcelReader.raise_if_bad_sheet_by_name\u001b[0;34m(self, name)\u001b[0m\n\u001b[1;32m    472\u001b[0m \u001b[38;5;28;01mdef\u001b[39;00m \u001b[38;5;21mraise_if_bad_sheet_by_name\u001b[39m(\u001b[38;5;28mself\u001b[39m, name: \u001b[38;5;28mstr\u001b[39m) \u001b[38;5;241m-\u001b[39m\u001b[38;5;241m>\u001b[39m \u001b[38;5;28;01mNone\u001b[39;00m:\n\u001b[1;32m    473\u001b[0m     \u001b[38;5;28;01mif\u001b[39;00m name \u001b[38;5;129;01mnot\u001b[39;00m \u001b[38;5;129;01min\u001b[39;00m \u001b[38;5;28mself\u001b[39m\u001b[38;5;241m.\u001b[39msheet_names:\n\u001b[0;32m--> 474\u001b[0m         \u001b[38;5;28;01mraise\u001b[39;00m \u001b[38;5;167;01mValueError\u001b[39;00m(\u001b[38;5;124mf\u001b[39m\u001b[38;5;124m\"\u001b[39m\u001b[38;5;124mWorksheet named \u001b[39m\u001b[38;5;124m'\u001b[39m\u001b[38;5;132;01m{\u001b[39;00mname\u001b[38;5;132;01m}\u001b[39;00m\u001b[38;5;124m'\u001b[39m\u001b[38;5;124m not found\u001b[39m\u001b[38;5;124m\"\u001b[39m)\n",
      "\u001b[0;31mValueError\u001b[0m: Worksheet named 'Treatments' not found"
     ]
    }
   ],
   "source": [
    "filename = filename_input # Archivo de donde se extreará los tratamientos\n",
    "sheet_name='Treatments' # Nombre de la hoja donde se encuentran los tratamientos\n",
    "bucket_name = \"siwaexperiments\" # Nombre del bucket donde se guardarán los datos\n",
    "experiment = \"E335\" # Nombre de la carpeta dentro del bucket para un experimento\n",
    "folder_aws = \"\" # Carpeta donde se guardará el archivo de salida\n",
    "filename_output = \"treatments\" # Nombre del archivo de salida\n",
    "Treatment(filename_input,sheet_name,bucket_name,experiment,folder_aws,filename_output, overwrite=False)"
   ]
  },
  {
   "cell_type": "markdown",
   "metadata": {},
   "source": [
    "Results:"
   ]
  },
  {
   "cell_type": "code",
   "execution_count": 6,
   "metadata": {},
   "outputs": [
    {
     "data": {
      "text/plain": [
       "DataToStat(filename='data/E335.xlsx', sheet_name='Data to stat', bucket_name='siwaexperiments', experiment='E335', folder_aws='results', parameters={'Ca_P_analyzed': {'startswith': ('Ca_analyzed', 'P_analyzed'), 'name_cols': ['Ca_analyzed(%)', 'P_analyzed(%)'], 'p2d': True}, 'Ca_analyzable': {'startswith': 'Ca_analyzable', 'name_cols': ['Ca_analyzable(%)'], 'p2d': True}}, phase2days={'PreSt': '0-10d', 'St': '11-21d', 'Fn': '22-42d'})"
      ]
     },
     "execution_count": 6,
     "metadata": {},
     "output_type": "execute_result"
    }
   ],
   "source": [
    "filename = \"data/E335.xlsx\" # Archivo de donde se extreará la data\n",
    "sheet_name='Data to stat' # Nombre de la hoja donde se encuentran los tratamientos\n",
    "\n",
    "bucket_name = \"siwaexperiments\" # Nombre del bucket donde se guardarán los datos\n",
    "experiment = \"E335\" # Nombre de la carpeta dentro del bucket para un experimento\n",
    "folder_aws = \"results\" # Carpeta donde se guardará el archivo de salida\n",
    "\n",
    "# Diccionario que relaciona el nombre de la fase con la cantidad de dias de esta\n",
    "phase2days = {\n",
    "    \"PreSt\":\"0-10d\",\n",
    "    \"St\":\"11-21d\",\n",
    "    \"Fn\":\"22-42d\"\n",
    "}\n",
    "\n",
    "parameters = {\n",
    "    \"Ca_P_analyzed\":{\n",
    "        \"startswith\":('Ca_analyzed','P_analyzed'), #Nombre de las columnas que se desean extraer\n",
    "        \"name_cols\":['Ca_analyzed(%)','P_analyzed(%)'], #Nombre de las columnas del archivo resultante\n",
    "        \"p2d\":True # Si se requiere convertir de fase a dias este parametro debe ser True, de lo contrario False\n",
    "    },\n",
    "    \"Ca_analyzable\":{\n",
    "        \"startswith\":\"Ca_analyzable\",\n",
    "        \"name_cols\":['Ca_analyzable(%)'],\n",
    "        \"p2d\":True\n",
    "    },\n",
    "}\n",
    "\n",
    "DataToStat(filename,sheet_name,bucket_name,experiment,folder_aws,parameters,phase2days)"
   ]
  },
  {
   "cell_type": "markdown",
   "metadata": {},
   "source": [
    "# E326:\n",
    "\n",
    "No se encuentran datos de resultados del experimento.\n",
    "\n",
    "Treatments:"
   ]
  },
  {
   "cell_type": "code",
   "execution_count": 7,
   "metadata": {},
   "outputs": [
    {
     "data": {
      "text/plain": [
       "Treatment(filename='data/E326.xlsx', sheet_name='Treatments', bucket_name='siwaexperiments', experiment='E326', folder_aws='', filename_output='treatments')"
      ]
     },
     "execution_count": 7,
     "metadata": {},
     "output_type": "execute_result"
    }
   ],
   "source": [
    "filename = \"data/E326.xlsx\" # Archivo de donde se extreará los tratamientos\n",
    "sheet_name='Treatments' # Nombre de la hoja donde se encuentran los tratamientos\n",
    "bucket_name = \"siwaexperiments\" # Nombre del bucket donde se guardarán los datos\n",
    "experiment = \"E326\" # Nombre de la carpeta dentro del bucket para un experimento\n",
    "folder_aws = \"\" # Carpeta donde se guardará el archivo de salida\n",
    "filename_output = \"treatments\" # Nombre del archivo de salida\n",
    "Treatment(filename,sheet_name,bucket_name,experiment,folder_aws,filename_output)"
   ]
  },
  {
   "cell_type": "markdown",
   "metadata": {},
   "source": [
    "Performance:"
   ]
  },
  {
   "cell_type": "code",
   "execution_count": 8,
   "metadata": {},
   "outputs": [
    {
     "data": {
      "text/plain": [
       "DataToStat(filename='data/E326.xlsx', sheet_name='Data to stat', bucket_name='siwaexperiments', experiment='E326', folder_aws='performance', parameters={'bw': {'name_cols': ['BW(g)'], 'startswith': 'BW ', 'p2d': False}, 'fi': {'name_cols': ['FI(g)'], 'startswith': 'FI ', 'p2d': False}, 'bwg': {'name_cols': ['BWG(g)'], 'startswith': 'BWG', 'p2d': False}, 'fcr': {'name_cols': ['FCR(g:g)', 'FCR_correct(g:g)'], 'startswith': 'FCR', 'p2d': False}, 'mort_cull': {'name_cols': ['mortality(%)', 'culling(%)'], 'startswith': ('Mortality', 'Culling'), 'p2d': False}}, phase2days={})"
      ]
     },
     "execution_count": 8,
     "metadata": {},
     "output_type": "execute_result"
    }
   ],
   "source": [
    "filename = \"data/E326.xlsx\" # Archivo de donde se extrearán los datos\n",
    "sheet_name='Data to stat' # Nombre de la hoja donde se encuentran los tratamientos\n",
    "\n",
    "# AWS\n",
    "bucket_name = \"siwaexperiments\" # Nombre del bucket donde se guardarán los datos\n",
    "experiment = \"E326\" # Nombre de la carpeta dentro del bucket para un experimento\n",
    "folder_aws = \"performance\" # Carpeta donde se guardarán los archivos de salida\n",
    "\n",
    "# Diccionario que relaciona el nombre de la fase con la cantidad de dias de esta\n",
    "phase2days = {\n",
    "}\n",
    "\n",
    "parameters = {\n",
    "    \"bw\":{\n",
    "        \"name_cols\":['BW(g)'],\n",
    "        \"startswith\":\"BW \",\n",
    "        \"p2d\":False\n",
    "    },\n",
    "    \"fi\":{\n",
    "        \"name_cols\":['FI(g)'],\n",
    "        \"startswith\":\"FI \",\n",
    "        \"p2d\":False\n",
    "    },\n",
    "    \"bwg\":{\n",
    "        \"name_cols\":['BWG(g)'],\n",
    "        \"startswith\":\"BWG\",\n",
    "        \"p2d\":False\n",
    "    },\n",
    "    \"fcr\":{\n",
    "        \"name_cols\":['FCR(g:g)','FCR_correct(g:g)'],\n",
    "        \"startswith\":\"FCR\",\n",
    "        \"p2d\":False\n",
    "    },\n",
    "    \"mort_cull\":{\n",
    "        \"name_cols\":['mortality(%)','culling(%)'],\n",
    "        \"startswith\":('Mortality','Culling'),\n",
    "        \"p2d\":False\n",
    "    },\n",
    "}\n",
    "\n",
    "DataToStat(filename,sheet_name,bucket_name,experiment,folder_aws,parameters,phase2days)"
   ]
  },
  {
   "cell_type": "markdown",
   "metadata": {},
   "source": [
    "# E325:\n",
    "\n",
    "No se encuentran datos de resultados del experimento.\n",
    "\n",
    "Treatments:"
   ]
  },
  {
   "cell_type": "code",
   "execution_count": 9,
   "metadata": {},
   "outputs": [
    {
     "data": {
      "text/plain": [
       "Treatment(filename='data/E325.xlsx', sheet_name='Treatments', bucket_name='siwaexperiments', experiment='E325', folder_aws='', filename_output='treatments')"
      ]
     },
     "execution_count": 9,
     "metadata": {},
     "output_type": "execute_result"
    }
   ],
   "source": [
    "filename = \"data/E325.xlsx\" # Archivo de donde se extreará los tratamientos\n",
    "sheet_name='Treatments' # Nombre de la hoja donde se encuentran los tratamientos\n",
    "bucket_name = \"siwaexperiments\" # Nombre del bucket donde se guardarán los datos\n",
    "experiment = \"E325\" # Nombre de la carpeta dentro del bucket para un experimento\n",
    "folder_aws = \"\" # Carpeta donde se guardará el archivo de salida\n",
    "filename_output = \"treatments\" # Nombre del archivo de salida\n",
    "Treatment(filename,sheet_name,bucket_name,experiment,folder_aws,filename_output)"
   ]
  },
  {
   "cell_type": "markdown",
   "metadata": {},
   "source": [
    "Performance:"
   ]
  },
  {
   "cell_type": "code",
   "execution_count": 10,
   "metadata": {},
   "outputs": [
    {
     "data": {
      "text/plain": [
       "DataToStat(filename='data/E325.xlsx', sheet_name='Data to stat', bucket_name='siwaexperiments', experiment='E325', folder_aws='performance', parameters={'bw': {'name_cols': ['BW(g)'], 'startswith': 'BW ', 'p2d': False}, 'wc': {'name_cols': ['WC(g)'], 'startswith': 'WC ', 'p2d': False}, 'fi': {'name_cols': ['FI(g)'], 'startswith': 'FI ', 'p2d': False}, 'bwg': {'name_cols': ['BWG(g)', 'BWG_correct(g)'], 'startswith': 'BWG', 'p2d': False}, 'fcr': {'name_cols': ['FCR(g:g)', 'FCR_correct(g:g)'], 'startswith': 'FCR', 'p2d': False}, 'mort_cull': {'name_cols': ['mortality(%)', 'culling(%)'], 'startswith': ('Mortality', 'Culling'), 'p2d': False}}, phase2days={})"
      ]
     },
     "execution_count": 10,
     "metadata": {},
     "output_type": "execute_result"
    }
   ],
   "source": [
    "filename = \"data/E325.xlsx\" # Archivo de donde se extrearán los datos\n",
    "sheet_name='Data to stat' # Nombre de la hoja donde se encuentran los tratamientos\n",
    "\n",
    "# AWS\n",
    "bucket_name = \"siwaexperiments\" # Nombre del bucket donde se guardarán los datos\n",
    "experiment = \"E325\" # Nombre de la carpeta dentro del bucket para un experimento\n",
    "folder_aws = \"performance\" # Carpeta donde se guardarán los archivos de salida\n",
    "\n",
    "# Diccionario que relaciona el nombre de la fase con la cantidad de dias de esta\n",
    "phase2days = {\n",
    "}\n",
    "\n",
    "parameters = {\n",
    "    \"bw\":{\n",
    "        \"name_cols\":['BW(g)'],\n",
    "        \"startswith\":\"BW \",\n",
    "        \"p2d\":False\n",
    "    },\n",
    "    \"wc\":{\n",
    "        \"name_cols\":['WC(g)'],\n",
    "        \"startswith\":\"WC \",\n",
    "        \"p2d\":False\n",
    "    },\n",
    "    \"fi\":{\n",
    "        \"name_cols\":['FI(g)'],\n",
    "        \"startswith\":\"FI \",\n",
    "        \"p2d\":False\n",
    "    },\n",
    "    \"bwg\":{\n",
    "        \"name_cols\":['BWG(g)','BWG_correct(g)'],\n",
    "        \"startswith\":\"BWG\",\n",
    "        \"p2d\":False\n",
    "    },\n",
    "    \"fcr\":{\n",
    "        \"name_cols\":['FCR(g:g)','FCR_correct(g:g)'],\n",
    "        \"startswith\":\"FCR\",\n",
    "        \"p2d\":False\n",
    "    },\n",
    "    \"mort_cull\":{\n",
    "        \"name_cols\":['mortality(%)','culling(%)'],\n",
    "        \"startswith\":('Mortality','Culling'),\n",
    "        \"p2d\":False\n",
    "    },\n",
    "}\n",
    "\n",
    "DataToStat(filename,sheet_name,bucket_name,experiment,folder_aws,parameters,phase2days)"
   ]
  },
  {
   "cell_type": "markdown",
   "metadata": {},
   "source": [
    "# E321:\n",
    "\n",
    "No se encuentran datos de tratamientos o de resultados del experimento.\n",
    "\n",
    "Performance:"
   ]
  },
  {
   "cell_type": "code",
   "execution_count": 11,
   "metadata": {},
   "outputs": [
    {
     "data": {
      "text/plain": [
       "DataToStat(filename='data/E321.xlsx', sheet_name='Data to stat', bucket_name='siwaexperiments', experiment='E321', folder_aws='performance', parameters={'bw': {'name_cols': ['BW(g)'], 'startswith': 'BW ', 'p2d': False}, 'fi': {'name_cols': ['FI(g)'], 'startswith': 'FI ', 'p2d': False}, 'bwg': {'name_cols': ['BWG(g)'], 'startswith': 'BWG', 'p2d': False}, 'fcr': {'name_cols': ['FCR(g:g)'], 'startswith': 'FCR ', 'p2d': False}}, phase2days={})"
      ]
     },
     "execution_count": 11,
     "metadata": {},
     "output_type": "execute_result"
    }
   ],
   "source": [
    "filename = \"data/E321.xlsx\" # Archivo de donde se extrearán los datos\n",
    "sheet_name='Data to stat' # Nombre de la hoja donde se encuentran los tratamientos\n",
    "\n",
    "# AWS\n",
    "bucket_name = \"siwaexperiments\" # Nombre del bucket donde se guardarán los datos\n",
    "experiment = \"E321\" # Nombre de la carpeta dentro del bucket para un experimento\n",
    "folder_aws = \"performance\" # Carpeta donde se guardarán los archivos de salida\n",
    "\n",
    "# Diccionario que relaciona el nombre de la fase con la cantidad de dias de esta\n",
    "phase2days = {\n",
    "}\n",
    "\n",
    "parameters = {\n",
    "    \"bw\":{\n",
    "        \"name_cols\":['BW(g)'],\n",
    "        \"startswith\":\"BW \",\n",
    "        \"p2d\":False\n",
    "    },\n",
    "    \"fi\":{\n",
    "        \"name_cols\":['FI(g)'],\n",
    "        \"startswith\":\"FI \",\n",
    "        \"p2d\":False\n",
    "    },\n",
    "    \"bwg\":{\n",
    "        \"name_cols\":['BWG(g)'],\n",
    "        \"startswith\":\"BWG\",\n",
    "        \"p2d\":False\n",
    "    },\n",
    "    \"fcr\":{\n",
    "        \"name_cols\":['FCR(g:g)'],\n",
    "        \"startswith\":\"FCR \",\n",
    "        \"p2d\":False\n",
    "    },\n",
    "}\n",
    "\n",
    "DataToStat(filename,sheet_name,bucket_name,experiment,folder_aws,parameters,phase2days)"
   ]
  },
  {
   "cell_type": "markdown",
   "metadata": {},
   "source": [
    "# E271:\n",
    "\n",
    "No se encuentran datos de resultados del experimento\n",
    "\n",
    "Treatments:"
   ]
  },
  {
   "cell_type": "code",
   "execution_count": 12,
   "metadata": {},
   "outputs": [
    {
     "data": {
      "text/plain": [
       "Treatment(filename='data/E271.xlsx', sheet_name='Treatments', bucket_name='siwaexperiments', experiment='E271', folder_aws='', filename_output='treatments')"
      ]
     },
     "execution_count": 12,
     "metadata": {},
     "output_type": "execute_result"
    }
   ],
   "source": [
    "filename = \"data/E271.xlsx\" # Archivo de donde se extreará los tratamientos\n",
    "sheet_name='Treatments' # Nombre de la hoja donde se encuentran los tratamientos\n",
    "bucket_name = \"siwaexperiments\" # Nombre del bucket donde se guardarán los datos\n",
    "experiment = \"E271\" # Nombre de la carpeta dentro del bucket para un experimento\n",
    "folder_aws = \"\" # Carpeta donde se guardará el archivo de salida\n",
    "filename_output = \"treatments\" # Nombre del archivo de salida\n",
    "Treatment(filename,sheet_name,bucket_name,experiment,folder_aws,filename_output)"
   ]
  },
  {
   "cell_type": "markdown",
   "metadata": {},
   "source": [
    "Performance:"
   ]
  },
  {
   "cell_type": "code",
   "execution_count": 13,
   "metadata": {},
   "outputs": [
    {
     "data": {
      "text/plain": [
       "DataToStat(filename='data/E271.xlsx', sheet_name='Data to stat', bucket_name='siwaexperiments', experiment='E271', folder_aws='performance', parameters={'bw': {'name_cols': ['BW(g)'], 'startswith': 'BW ', 'p2d': False}, 'fi': {'name_cols': ['FI(g)', 'FI_correct(g)'], 'startswith': 'FI ', 'p2d': False}, 'bwg': {'name_cols': ['BWG(g)'], 'startswith': 'BWG', 'p2d': False}, 'fcr': {'name_cols': ['FCR(g:g)', 'FCR_correct(g:g)'], 'startswith': 'FCR', 'p2d': False}, 'mort_cull': {'name_cols': ['mortality(%)', 'culling(%)'], 'startswith': ('Mortality', 'Culling'), 'p2d': False}}, phase2days={})"
      ]
     },
     "execution_count": 13,
     "metadata": {},
     "output_type": "execute_result"
    }
   ],
   "source": [
    "filename = \"data/E271.xlsx\" # Archivo de donde se extrearán los datos\n",
    "sheet_name='Data to stat' # Nombre de la hoja donde se encuentran los tratamientos\n",
    "\n",
    "# AWS\n",
    "bucket_name = \"siwaexperiments\" # Nombre del bucket donde se guardarán los datos\n",
    "experiment = \"E271\" # Nombre de la carpeta dentro del bucket para un experimento\n",
    "folder_aws = \"performance\" # Carpeta donde se guardarán los archivos de salida\n",
    "\n",
    "# Diccionario que relaciona el nombre de la fase con la cantidad de dias de esta\n",
    "phase2days = {\n",
    "}\n",
    "\n",
    "parameters = {\n",
    "    \"bw\":{\n",
    "        \"name_cols\":['BW(g)'],\n",
    "        \"startswith\":\"BW \",\n",
    "        \"p2d\":False\n",
    "    },\n",
    "    \"fi\":{\n",
    "        \"name_cols\":['FI(g)','FI_correct(g)'],\n",
    "        \"startswith\":\"FI \",\n",
    "        \"p2d\":False\n",
    "    },\n",
    "    \"bwg\":{\n",
    "        \"name_cols\":['BWG(g)'],\n",
    "        \"startswith\":\"BWG\",\n",
    "        \"p2d\":False\n",
    "    },\n",
    "    \"fcr\":{\n",
    "        \"name_cols\":['FCR(g:g)','FCR_correct(g:g)'],\n",
    "        \"startswith\":\"FCR\",\n",
    "        \"p2d\":False\n",
    "    },\n",
    "    \"mort_cull\":{\n",
    "        \"name_cols\":['mortality(%)','culling(%)'],\n",
    "        \"startswith\":('Mortality','Culling'),\n",
    "        \"p2d\":False\n",
    "    },\n",
    "}\n",
    "\n",
    "DataToStat(filename,sheet_name,bucket_name,experiment,folder_aws,parameters,phase2days)"
   ]
  },
  {
   "cell_type": "markdown",
   "metadata": {},
   "source": [
    "# E267:\n",
    "\n",
    "No se encuentran datos de tratamientos o de resultados del experimento."
   ]
  },
  {
   "cell_type": "code",
   "execution_count": 14,
   "metadata": {},
   "outputs": [
    {
     "data": {
      "text/plain": [
       "DataToStat(filename='data/E267.xlsx', sheet_name='Data to stat', bucket_name='siwaexperiments', experiment='E267', folder_aws='performance', parameters={'bw': {'name_cols': ['BW(g)'], 'startswith': 'BW ', 'p2d': False}, 'fi': {'name_cols': ['FI(g)'], 'startswith': 'FI ', 'p2d': False}, 'bwg': {'name_cols': ['BWG(g)', 'BWG_correct(g)'], 'startswith': 'BWG', 'p2d': False}, 'fcr': {'name_cols': ['FCR(g:g)', 'FCR_correct(g:g)'], 'startswith': 'FCR', 'p2d': False}, 'mort_cull': {'name_cols': ['mortality(%)', 'culling(%)'], 'startswith': ('Mortality', 'Culling'), 'p2d': False}}, phase2days={})"
      ]
     },
     "execution_count": 14,
     "metadata": {},
     "output_type": "execute_result"
    }
   ],
   "source": [
    "filename = \"data/E267.xlsx\" # Archivo de donde se extrearán los datos\n",
    "sheet_name='Data to stat' # Nombre de la hoja donde se encuentran los tratamientos\n",
    "\n",
    "# AWS\n",
    "bucket_name = \"siwaexperiments\" # Nombre del bucket donde se guardarán los datos\n",
    "experiment = \"E267\" # Nombre de la carpeta dentro del bucket para un experimento\n",
    "folder_aws = \"performance\" # Carpeta donde se guardarán los archivos de salida\n",
    "\n",
    "# Diccionario que relaciona el nombre de la fase con la cantidad de dias de esta\n",
    "phase2days = {\n",
    "}\n",
    "\n",
    "parameters = {\n",
    "    \"bw\":{\n",
    "        \"name_cols\":['BW(g)'],\n",
    "        \"startswith\":\"BW \",\n",
    "        \"p2d\":False\n",
    "    },\n",
    "    \"fi\":{\n",
    "        \"name_cols\":['FI(g)'],\n",
    "        \"startswith\":\"FI \",\n",
    "        \"p2d\":False\n",
    "    },\n",
    "    \"bwg\":{\n",
    "        \"name_cols\":['BWG(g)','BWG_correct(g)'],\n",
    "        \"startswith\":\"BWG\",\n",
    "        \"p2d\":False\n",
    "    },\n",
    "    \"fcr\":{\n",
    "        \"name_cols\":['FCR(g:g)','FCR_correct(g:g)'],\n",
    "        \"startswith\":\"FCR\",\n",
    "        \"p2d\":False\n",
    "    },\n",
    "    \"mort_cull\":{\n",
    "        \"name_cols\":['mortality(%)','culling(%)'],\n",
    "        \"startswith\":('Mortality','Culling'),\n",
    "        \"p2d\":False\n",
    "    },\n",
    "}\n",
    "\n",
    "DataToStat(filename,sheet_name,bucket_name,experiment,folder_aws,parameters,phase2days)"
   ]
  },
  {
   "cell_type": "markdown",
   "metadata": {},
   "source": [
    "# E347"
   ]
  },
  {
   "cell_type": "code",
   "execution_count": null,
   "metadata": {},
   "outputs": [],
   "source": [
    "filename_input = \"/Users/dvarelat/Documents/SIWA/dataExploration/DATA/E-347 New Format.xlsx\" \n",
    "sheet_name='Data to stat' # Nombre de la hoja donde se encuentran los tratamientos\n",
    "\n",
    "# AWS\n",
    "bucket_name = \"siwaexperiments\" # Nombre del bucket donde se guardarán los datos\n",
    "experiment = \"E347\" # Nombre de la carpeta dentro del bucket para un experimento\n",
    "folder_aws = \"performance\" # Carpeta donde se guardarán los archivos de salida\n",
    "\n",
    "# Diccionario que relaciona el nombre de la fase con la cantidad de dias de esta\n",
    "phase2days = {\n",
    "}\n",
    "\n",
    "# En este diccionario se definen los parametros para la extraccion de cada variable\n",
    "# en el archivo de raw data. En teoria si el archivo cumple con la estructura diseñada\n",
    "# no es necesario modificar nada de este diccionario\n",
    "parameters = {\n",
    "    \"bw\":{\n",
    "        \"name_cols\":['BW(g)'], #Este es el nombre con el que quedará la variable en el archivo de salida\n",
    "        \"startswith\":\"BW \", # Los nombres de las columnas relacionadas con esta variable esta relacionada con el texto de startswith\n",
    "        \"p2d\":False # Si los nombres de las columnas indican la phase como texto(ejemplo: Starter)\n",
    "        # esta variable debe ser True, de lo contrario(ejemplo: 0-10d) esta debe ser False\n",
    "    },\n",
    "    \"wc\":{\n",
    "        \"name_cols\":['WC(g)'],\n",
    "        \"startswith\":\"WC \",\n",
    "        \"p2d\":False\n",
    "    },\n",
    "    \"fi\":{\n",
    "        \"name_cols\":['FI(g)'],\n",
    "        \"startswith\":\"FI \",\n",
    "        \"p2d\":False\n",
    "    },\n",
    "    \"bwg\":{\n",
    "        \"name_cols\":['BWG(g)','BWG_correct(g)'],\n",
    "        \"startswith\":\"BWG\",\n",
    "        \"p2d\":False\n",
    "    },\n",
    "    \"fcr\":{\n",
    "        \"name_cols\":['FCR(g:g)','FCR_correct(g:g)'],\n",
    "        \"startswith\":\"FCR\",\n",
    "        \"p2d\":False\n",
    "    },\n",
    "    \"mort_cull\":{\n",
    "        \"name_cols\":['mortality(%)','culling(%)'],\n",
    "        \"startswith\":('Mortality','Culling'),\n",
    "        \"p2d\":False\n",
    "    },\n",
    "    \"count\":{\n",
    "        \"name_cols\":['num_inicial','num_final'],\n",
    "        \"startswith\":\"#\",\n",
    "        \"p2d\":True\n",
    "    },\n",
    "}"
   ]
  },
  {
   "cell_type": "code",
   "execution_count": null,
   "metadata": {},
   "outputs": [],
   "source": []
  },
  {
   "cell_type": "code",
   "execution_count": null,
   "metadata": {},
   "outputs": [],
   "source": []
  }
 ],
 "metadata": {
  "interpreter": {
   "hash": "5de476bc59ec71394b025dc8517eb97bb8f58150d7a54641264aca7a45165c05"
  },
  "kernelspec": {
   "display_name": "Python 3 (ipykernel)",
   "language": "python",
   "name": "python3"
  },
  "language_info": {
   "codemirror_mode": {
    "name": "ipython",
    "version": 3
   },
   "file_extension": ".py",
   "mimetype": "text/x-python",
   "name": "python",
   "nbconvert_exporter": "python",
   "pygments_lexer": "ipython3",
   "version": "3.8.12"
  }
 },
 "nbformat": 4,
 "nbformat_minor": 2
}
